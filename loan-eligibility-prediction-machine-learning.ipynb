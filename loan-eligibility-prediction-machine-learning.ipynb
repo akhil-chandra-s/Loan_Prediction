{
 "cells": [
  {
   "cell_type": "markdown",
   "metadata": {
    "papermill": {
     "duration": 0.070772,
     "end_time": "2020-12-27T17:03:46.906995",
     "exception": false,
     "start_time": "2020-12-27T17:03:46.836223",
     "status": "completed"
    },
    "tags": []
   },
   "source": [
    "<div class='text-center'>\n",
    "    <h1>Loan Eligibility Prediction using Machine Learning Models  </h1>\n",
    "</div>\n"
   ]
  },
  {
   "cell_type": "markdown",
   "metadata": {
    "papermill": {
     "duration": 0.071273,
     "end_time": "2020-12-27T17:03:47.056809",
     "exception": false,
     "start_time": "2020-12-27T17:03:46.985536",
     "status": "completed"
    },
    "tags": []
   },
   "source": [
    "# Introduction"
   ]
  },
  {
   "cell_type": "markdown",
   "metadata": {
    "papermill": {
     "duration": 0.069702,
     "end_time": "2020-12-27T17:03:47.195615",
     "exception": false,
     "start_time": "2020-12-27T17:03:47.125913",
     "status": "completed"
    },
    "tags": []
   },
   "source": [
    "### In this notebook, I'm going to predict customers who are eligible for the loan.\n",
    "\n",
    "\n",
    "<div class=\"text-success \"><h4> We will learning about, Data Analysis Preprocess such as, </h4></div>\n",
    "\n",
    "--- \n",
    "\n",
    "> ### We will do the following steps:\n",
    "\n",
    "\n",
    "- [Gathering Data](#1)\n",
    "- [Exploratory Data Analysis](#2)\n",
    "- [Data Visualizations](#3)\n",
    "- [Machine Learning Model Decision.](#4)\n",
    "- [Traing the ML Model](#5)\n",
    "- [Predict Model](#6)\n",
    "- [Deploy Model](#7)\n",
    "\n",
    "\n",
    "\n",
    " \n",
    "**Hope** you guys ****Love It**** and get a better **learning experience**.  🙏"
   ]
  },
  {
   "cell_type": "markdown",
   "metadata": {
    "papermill": {
     "duration": 0.069957,
     "end_time": "2020-12-27T17:03:47.335723",
     "exception": false,
     "start_time": "2020-12-27T17:03:47.265766",
     "status": "completed"
    },
    "tags": []
   },
   "source": [
    "\n",
    "<img align=\"center\" src=\"https://www.rdccbank.com/uploads/loan-sub-types-template/housing-b.jpg\" alt=\"House Loan\" />\n",
    "\n",
    "---\n",
    "\n",
    "<div class=\"text-danger\" >\n",
    "    <h4>Let's Say, You are the owner of the <b>Housing Finance Company</b> and you want to build your own model to predict the customers are applying for the home loan and company want to check and validate the customer are eligible for the home loan.\n",
    "    </h4>\n",
    "</div>"
   ]
  },
  {
   "cell_type": "markdown",
   "metadata": {
    "papermill": {
     "duration": 0.06885,
     "end_time": "2020-12-27T17:03:47.474168",
     "exception": false,
     "start_time": "2020-12-27T17:03:47.405318",
     "status": "completed"
    },
    "tags": []
   },
   "source": [
    "\n",
    "# <div class=\"text-primary\"> The Problem is,  </div>\n",
    "\n",
    "### In a Simple Term, Company wants to make automate the Loan Eligibility Process in a real time scenario related to customer's detail provided while applying application for home loan forms.\n",
    "\n",
    "\n",
    "You will use the training set to build your model, and the test set to validate it. Both the files are stored on the web as CSV files; their URLs are already available as character strings in the sample code.\n",
    "\n"
   ]
  },
  {
   "cell_type": "markdown",
   "metadata": {
    "papermill": {
     "duration": 0.069442,
     "end_time": "2020-12-27T17:03:47.612591",
     "exception": false,
     "start_time": "2020-12-27T17:03:47.543149",
     "status": "completed"
    },
    "tags": []
   },
   "source": [
    "First of all, we need to importing the necessary packages to work with the data to solve our problem"
   ]
  },
  {
   "cell_type": "markdown",
   "metadata": {
    "papermill": {
     "duration": 0.071563,
     "end_time": "2020-12-27T17:03:47.753411",
     "exception": false,
     "start_time": "2020-12-27T17:03:47.681848",
     "status": "completed"
    },
    "tags": []
   },
   "source": [
    "# Import Packages"
   ]
  },
  {
   "cell_type": "code",
   "execution_count": 1,
   "metadata": {
    "execution": {
     "iopub.execute_input": "2020-12-27T17:03:47.908349Z",
     "iopub.status.busy": "2020-12-27T17:03:47.907535Z",
     "iopub.status.idle": "2020-12-27T17:03:47.911309Z",
     "shell.execute_reply": "2020-12-27T17:03:47.910403Z"
    },
    "papermill": {
     "duration": 0.080851,
     "end_time": "2020-12-27T17:03:47.911470",
     "exception": false,
     "start_time": "2020-12-27T17:03:47.830619",
     "status": "completed"
    },
    "tags": []
   },
   "outputs": [],
   "source": [
    "import numpy as np # linear algebra\n",
    "import pandas as pd # data processing, CSV file I/O (e.g. pd.read_csv)"
   ]
  },
  {
   "cell_type": "markdown",
   "metadata": {
    "papermill": {
     "duration": 0.075725,
     "end_time": "2020-12-27T17:03:48.241080",
     "exception": false,
     "start_time": "2020-12-27T17:03:48.165355",
     "status": "completed"
    },
    "tags": []
   },
   "source": [
    " You can load this data with the `read_csv()` method from `pandas` package. It converts the data set to a python dataframe."
   ]
  },
  {
   "cell_type": "markdown",
   "metadata": {
    "papermill": {
     "duration": 0.078962,
     "end_time": "2020-12-27T17:03:48.406805",
     "exception": false,
     "start_time": "2020-12-27T17:03:48.327843",
     "status": "completed"
    },
    "tags": []
   },
   "source": [
    "\n",
    "## Dataset Key Information.\n",
    "  \n",
    "---  \n",
    "  \n",
    "> - `Loan_ID`--------------> Unique Loan ID.\n",
    "- `Gender`   --------------> Male/ Female \n",
    "- `Married`  --------------> Applicant married (Y/N) \n",
    "- `Dependents` ------------> Number of dependents \n",
    "- `Education` -------------> Applicant Education (Graduate/ Under Graduate) \n",
    "- `Self_Employed` ---------> Self-employed (Y/N) \n",
    "- `ApplicantIncome` -------> Applicant income \n",
    "- `CoapplicantIncome` -----> Coapplicant income \n",
    "- `LoanAmount`  -----------> Loan amount in thousands \n",
    "- `Loan_Amount_Term` ------> Term of a loan in months \n",
    "- `Credit_History` --------> Credit history meets guidelines \n",
    "- `Property_Area` ---------> Urban/ Semi-Urban/ Rural \n",
    "- `Loan_Status` -----------> Loan approved (Y/N) "
   ]
  },
  {
   "cell_type": "markdown",
   "metadata": {
    "papermill": {
     "duration": 0.07649,
     "end_time": "2020-12-27T17:03:48.560451",
     "exception": false,
     "start_time": "2020-12-27T17:03:48.483961",
     "status": "completed"
    },
    "tags": []
   },
   "source": [
    "<a id=\"1\"></a><br>\n",
    "# 1. Gathering Data"
   ]
  },
  {
   "cell_type": "code",
   "execution_count": 2,
   "metadata": {
    "_cell_guid": "79c7e3d0-c299-4dcb-8224-4455121ee9b0",
    "_uuid": "d629ff2d2480ee46fbb7e2d37f6b5fab8052498a",
    "execution": {
     "iopub.execute_input": "2020-12-27T17:03:48.729066Z",
     "iopub.status.busy": "2020-12-27T17:03:48.728304Z",
     "iopub.status.idle": "2020-12-27T17:03:48.765790Z",
     "shell.execute_reply": "2020-12-27T17:03:48.764962Z"
    },
    "papermill": {
     "duration": 0.123016,
     "end_time": "2020-12-27T17:03:48.765941",
     "exception": false,
     "start_time": "2020-12-27T17:03:48.642925",
     "status": "completed"
    },
    "tags": []
   },
   "outputs": [],
   "source": [
    "#  Create New Variable and stores the dataset values as Data Frame\n",
    "\n",
    "loan_train = pd.read_csv('C:/Users/akhil/Downloads/Loan_Train.csv')\n",
    "loan_test = pd.read_csv('C:/Users/akhil/Downloads/Loan_Test.csv')"
   ]
  },
  {
   "cell_type": "markdown",
   "metadata": {
    "papermill": {
     "duration": 0.074662,
     "end_time": "2020-12-27T17:03:48.914906",
     "exception": false,
     "start_time": "2020-12-27T17:03:48.840244",
     "status": "completed"
    },
    "tags": []
   },
   "source": [
    "- Lets display the some few information from our large datasets\n",
    "\n",
    "Here, We shows the first five rows from datasets"
   ]
  },
  {
   "cell_type": "code",
   "execution_count": 3,
   "metadata": {
    "execution": {
     "iopub.execute_input": "2020-12-27T17:03:49.097644Z",
     "iopub.status.busy": "2020-12-27T17:03:49.081762Z",
     "iopub.status.idle": "2020-12-27T17:03:49.116546Z",
     "shell.execute_reply": "2020-12-27T17:03:49.117028Z"
    },
    "papermill": {
     "duration": 0.125044,
     "end_time": "2020-12-27T17:03:49.117163",
     "exception": false,
     "start_time": "2020-12-27T17:03:48.992119",
     "status": "completed"
    },
    "tags": []
   },
   "outputs": [
    {
     "data": {
      "text/html": [
       "<div>\n",
       "<style scoped>\n",
       "    .dataframe tbody tr th:only-of-type {\n",
       "        vertical-align: middle;\n",
       "    }\n",
       "\n",
       "    .dataframe tbody tr th {\n",
       "        vertical-align: top;\n",
       "    }\n",
       "\n",
       "    .dataframe thead th {\n",
       "        text-align: right;\n",
       "    }\n",
       "</style>\n",
       "<table border=\"1\" class=\"dataframe\">\n",
       "  <thead>\n",
       "    <tr style=\"text-align: right;\">\n",
       "      <th></th>\n",
       "      <th>Loan_ID</th>\n",
       "      <th>Gender</th>\n",
       "      <th>Married</th>\n",
       "      <th>Dependents</th>\n",
       "      <th>Education</th>\n",
       "      <th>Self_Employed</th>\n",
       "      <th>ApplicantIncome</th>\n",
       "      <th>CoapplicantIncome</th>\n",
       "      <th>LoanAmount</th>\n",
       "      <th>Loan_Amount_Term</th>\n",
       "      <th>Credit_History</th>\n",
       "      <th>Property_Area</th>\n",
       "      <th>Loan_Status</th>\n",
       "    </tr>\n",
       "  </thead>\n",
       "  <tbody>\n",
       "    <tr>\n",
       "      <th>0</th>\n",
       "      <td>LP001002</td>\n",
       "      <td>Male</td>\n",
       "      <td>No</td>\n",
       "      <td>0</td>\n",
       "      <td>Graduate</td>\n",
       "      <td>No</td>\n",
       "      <td>5849</td>\n",
       "      <td>0.0</td>\n",
       "      <td>NaN</td>\n",
       "      <td>360.0</td>\n",
       "      <td>1.0</td>\n",
       "      <td>Urban</td>\n",
       "      <td>Y</td>\n",
       "    </tr>\n",
       "    <tr>\n",
       "      <th>1</th>\n",
       "      <td>LP001003</td>\n",
       "      <td>Male</td>\n",
       "      <td>Yes</td>\n",
       "      <td>1</td>\n",
       "      <td>Graduate</td>\n",
       "      <td>No</td>\n",
       "      <td>4583</td>\n",
       "      <td>1508.0</td>\n",
       "      <td>128.0</td>\n",
       "      <td>360.0</td>\n",
       "      <td>1.0</td>\n",
       "      <td>Rural</td>\n",
       "      <td>N</td>\n",
       "    </tr>\n",
       "    <tr>\n",
       "      <th>2</th>\n",
       "      <td>LP001005</td>\n",
       "      <td>Male</td>\n",
       "      <td>Yes</td>\n",
       "      <td>0</td>\n",
       "      <td>Graduate</td>\n",
       "      <td>Yes</td>\n",
       "      <td>3000</td>\n",
       "      <td>0.0</td>\n",
       "      <td>66.0</td>\n",
       "      <td>360.0</td>\n",
       "      <td>1.0</td>\n",
       "      <td>Urban</td>\n",
       "      <td>Y</td>\n",
       "    </tr>\n",
       "    <tr>\n",
       "      <th>3</th>\n",
       "      <td>LP001006</td>\n",
       "      <td>Male</td>\n",
       "      <td>Yes</td>\n",
       "      <td>0</td>\n",
       "      <td>Not Graduate</td>\n",
       "      <td>No</td>\n",
       "      <td>2583</td>\n",
       "      <td>2358.0</td>\n",
       "      <td>120.0</td>\n",
       "      <td>360.0</td>\n",
       "      <td>1.0</td>\n",
       "      <td>Urban</td>\n",
       "      <td>Y</td>\n",
       "    </tr>\n",
       "    <tr>\n",
       "      <th>4</th>\n",
       "      <td>LP001008</td>\n",
       "      <td>Male</td>\n",
       "      <td>No</td>\n",
       "      <td>0</td>\n",
       "      <td>Graduate</td>\n",
       "      <td>No</td>\n",
       "      <td>6000</td>\n",
       "      <td>0.0</td>\n",
       "      <td>141.0</td>\n",
       "      <td>360.0</td>\n",
       "      <td>1.0</td>\n",
       "      <td>Urban</td>\n",
       "      <td>Y</td>\n",
       "    </tr>\n",
       "  </tbody>\n",
       "</table>\n",
       "</div>"
      ],
      "text/plain": [
       "    Loan_ID Gender Married Dependents     Education Self_Employed  \\\n",
       "0  LP001002   Male      No          0      Graduate            No   \n",
       "1  LP001003   Male     Yes          1      Graduate            No   \n",
       "2  LP001005   Male     Yes          0      Graduate           Yes   \n",
       "3  LP001006   Male     Yes          0  Not Graduate            No   \n",
       "4  LP001008   Male      No          0      Graduate            No   \n",
       "\n",
       "   ApplicantIncome  CoapplicantIncome  LoanAmount  Loan_Amount_Term  \\\n",
       "0             5849                0.0         NaN             360.0   \n",
       "1             4583             1508.0       128.0             360.0   \n",
       "2             3000                0.0        66.0             360.0   \n",
       "3             2583             2358.0       120.0             360.0   \n",
       "4             6000                0.0       141.0             360.0   \n",
       "\n",
       "   Credit_History Property_Area Loan_Status  \n",
       "0             1.0         Urban           Y  \n",
       "1             1.0         Rural           N  \n",
       "2             1.0         Urban           Y  \n",
       "3             1.0         Urban           Y  \n",
       "4             1.0         Urban           Y  "
      ]
     },
     "execution_count": 3,
     "metadata": {},
     "output_type": "execute_result"
    }
   ],
   "source": [
    "loan_train.head()"
   ]
  },
  {
   "cell_type": "markdown",
   "metadata": {
    "papermill": {
     "duration": 0.049632,
     "end_time": "2020-12-27T17:03:49.215657",
     "exception": false,
     "start_time": "2020-12-27T17:03:49.166025",
     "status": "completed"
    },
    "tags": []
   },
   "source": [
    "- As we can see in the above output, there are too many columns, ( columns known as features as well. )\n",
    "\n",
    "We can also use `loan_train` to show few rows from the first five and last five record from the dataset"
   ]
  },
  {
   "cell_type": "code",
   "execution_count": 4,
   "metadata": {
    "execution": {
     "iopub.execute_input": "2020-12-27T17:03:49.353331Z",
     "iopub.status.busy": "2020-12-27T17:03:49.352446Z",
     "iopub.status.idle": "2020-12-27T17:03:49.359034Z",
     "shell.execute_reply": "2020-12-27T17:03:49.358303Z"
    },
    "papermill": {
     "duration": 0.094293,
     "end_time": "2020-12-27T17:03:49.359172",
     "exception": false,
     "start_time": "2020-12-27T17:03:49.264879",
     "status": "completed"
    },
    "tags": []
   },
   "outputs": [
    {
     "data": {
      "text/html": [
       "<div>\n",
       "<style scoped>\n",
       "    .dataframe tbody tr th:only-of-type {\n",
       "        vertical-align: middle;\n",
       "    }\n",
       "\n",
       "    .dataframe tbody tr th {\n",
       "        vertical-align: top;\n",
       "    }\n",
       "\n",
       "    .dataframe thead th {\n",
       "        text-align: right;\n",
       "    }\n",
       "</style>\n",
       "<table border=\"1\" class=\"dataframe\">\n",
       "  <thead>\n",
       "    <tr style=\"text-align: right;\">\n",
       "      <th></th>\n",
       "      <th>Loan_ID</th>\n",
       "      <th>Gender</th>\n",
       "      <th>Married</th>\n",
       "      <th>Dependents</th>\n",
       "      <th>Education</th>\n",
       "      <th>Self_Employed</th>\n",
       "      <th>ApplicantIncome</th>\n",
       "      <th>CoapplicantIncome</th>\n",
       "      <th>LoanAmount</th>\n",
       "      <th>Loan_Amount_Term</th>\n",
       "      <th>Credit_History</th>\n",
       "      <th>Property_Area</th>\n",
       "      <th>Loan_Status</th>\n",
       "    </tr>\n",
       "  </thead>\n",
       "  <tbody>\n",
       "    <tr>\n",
       "      <th>0</th>\n",
       "      <td>LP001002</td>\n",
       "      <td>Male</td>\n",
       "      <td>No</td>\n",
       "      <td>0</td>\n",
       "      <td>Graduate</td>\n",
       "      <td>No</td>\n",
       "      <td>5849</td>\n",
       "      <td>0.0</td>\n",
       "      <td>NaN</td>\n",
       "      <td>360.0</td>\n",
       "      <td>1.0</td>\n",
       "      <td>Urban</td>\n",
       "      <td>Y</td>\n",
       "    </tr>\n",
       "    <tr>\n",
       "      <th>1</th>\n",
       "      <td>LP001003</td>\n",
       "      <td>Male</td>\n",
       "      <td>Yes</td>\n",
       "      <td>1</td>\n",
       "      <td>Graduate</td>\n",
       "      <td>No</td>\n",
       "      <td>4583</td>\n",
       "      <td>1508.0</td>\n",
       "      <td>128.0</td>\n",
       "      <td>360.0</td>\n",
       "      <td>1.0</td>\n",
       "      <td>Rural</td>\n",
       "      <td>N</td>\n",
       "    </tr>\n",
       "    <tr>\n",
       "      <th>2</th>\n",
       "      <td>LP001005</td>\n",
       "      <td>Male</td>\n",
       "      <td>Yes</td>\n",
       "      <td>0</td>\n",
       "      <td>Graduate</td>\n",
       "      <td>Yes</td>\n",
       "      <td>3000</td>\n",
       "      <td>0.0</td>\n",
       "      <td>66.0</td>\n",
       "      <td>360.0</td>\n",
       "      <td>1.0</td>\n",
       "      <td>Urban</td>\n",
       "      <td>Y</td>\n",
       "    </tr>\n",
       "    <tr>\n",
       "      <th>3</th>\n",
       "      <td>LP001006</td>\n",
       "      <td>Male</td>\n",
       "      <td>Yes</td>\n",
       "      <td>0</td>\n",
       "      <td>Not Graduate</td>\n",
       "      <td>No</td>\n",
       "      <td>2583</td>\n",
       "      <td>2358.0</td>\n",
       "      <td>120.0</td>\n",
       "      <td>360.0</td>\n",
       "      <td>1.0</td>\n",
       "      <td>Urban</td>\n",
       "      <td>Y</td>\n",
       "    </tr>\n",
       "    <tr>\n",
       "      <th>4</th>\n",
       "      <td>LP001008</td>\n",
       "      <td>Male</td>\n",
       "      <td>No</td>\n",
       "      <td>0</td>\n",
       "      <td>Graduate</td>\n",
       "      <td>No</td>\n",
       "      <td>6000</td>\n",
       "      <td>0.0</td>\n",
       "      <td>141.0</td>\n",
       "      <td>360.0</td>\n",
       "      <td>1.0</td>\n",
       "      <td>Urban</td>\n",
       "      <td>Y</td>\n",
       "    </tr>\n",
       "    <tr>\n",
       "      <th>...</th>\n",
       "      <td>...</td>\n",
       "      <td>...</td>\n",
       "      <td>...</td>\n",
       "      <td>...</td>\n",
       "      <td>...</td>\n",
       "      <td>...</td>\n",
       "      <td>...</td>\n",
       "      <td>...</td>\n",
       "      <td>...</td>\n",
       "      <td>...</td>\n",
       "      <td>...</td>\n",
       "      <td>...</td>\n",
       "      <td>...</td>\n",
       "    </tr>\n",
       "    <tr>\n",
       "      <th>609</th>\n",
       "      <td>LP002978</td>\n",
       "      <td>Female</td>\n",
       "      <td>No</td>\n",
       "      <td>0</td>\n",
       "      <td>Graduate</td>\n",
       "      <td>No</td>\n",
       "      <td>2900</td>\n",
       "      <td>0.0</td>\n",
       "      <td>71.0</td>\n",
       "      <td>360.0</td>\n",
       "      <td>1.0</td>\n",
       "      <td>Rural</td>\n",
       "      <td>Y</td>\n",
       "    </tr>\n",
       "    <tr>\n",
       "      <th>610</th>\n",
       "      <td>LP002979</td>\n",
       "      <td>Male</td>\n",
       "      <td>Yes</td>\n",
       "      <td>3+</td>\n",
       "      <td>Graduate</td>\n",
       "      <td>No</td>\n",
       "      <td>4106</td>\n",
       "      <td>0.0</td>\n",
       "      <td>40.0</td>\n",
       "      <td>180.0</td>\n",
       "      <td>1.0</td>\n",
       "      <td>Rural</td>\n",
       "      <td>Y</td>\n",
       "    </tr>\n",
       "    <tr>\n",
       "      <th>611</th>\n",
       "      <td>LP002983</td>\n",
       "      <td>Male</td>\n",
       "      <td>Yes</td>\n",
       "      <td>1</td>\n",
       "      <td>Graduate</td>\n",
       "      <td>No</td>\n",
       "      <td>8072</td>\n",
       "      <td>240.0</td>\n",
       "      <td>253.0</td>\n",
       "      <td>360.0</td>\n",
       "      <td>1.0</td>\n",
       "      <td>Urban</td>\n",
       "      <td>Y</td>\n",
       "    </tr>\n",
       "    <tr>\n",
       "      <th>612</th>\n",
       "      <td>LP002984</td>\n",
       "      <td>Male</td>\n",
       "      <td>Yes</td>\n",
       "      <td>2</td>\n",
       "      <td>Graduate</td>\n",
       "      <td>No</td>\n",
       "      <td>7583</td>\n",
       "      <td>0.0</td>\n",
       "      <td>187.0</td>\n",
       "      <td>360.0</td>\n",
       "      <td>1.0</td>\n",
       "      <td>Urban</td>\n",
       "      <td>Y</td>\n",
       "    </tr>\n",
       "    <tr>\n",
       "      <th>613</th>\n",
       "      <td>LP002990</td>\n",
       "      <td>Female</td>\n",
       "      <td>No</td>\n",
       "      <td>0</td>\n",
       "      <td>Graduate</td>\n",
       "      <td>Yes</td>\n",
       "      <td>4583</td>\n",
       "      <td>0.0</td>\n",
       "      <td>133.0</td>\n",
       "      <td>360.0</td>\n",
       "      <td>0.0</td>\n",
       "      <td>Semiurban</td>\n",
       "      <td>N</td>\n",
       "    </tr>\n",
       "  </tbody>\n",
       "</table>\n",
       "<p>614 rows × 13 columns</p>\n",
       "</div>"
      ],
      "text/plain": [
       "      Loan_ID  Gender Married Dependents     Education Self_Employed  \\\n",
       "0    LP001002    Male      No          0      Graduate            No   \n",
       "1    LP001003    Male     Yes          1      Graduate            No   \n",
       "2    LP001005    Male     Yes          0      Graduate           Yes   \n",
       "3    LP001006    Male     Yes          0  Not Graduate            No   \n",
       "4    LP001008    Male      No          0      Graduate            No   \n",
       "..        ...     ...     ...        ...           ...           ...   \n",
       "609  LP002978  Female      No          0      Graduate            No   \n",
       "610  LP002979    Male     Yes         3+      Graduate            No   \n",
       "611  LP002983    Male     Yes          1      Graduate            No   \n",
       "612  LP002984    Male     Yes          2      Graduate            No   \n",
       "613  LP002990  Female      No          0      Graduate           Yes   \n",
       "\n",
       "     ApplicantIncome  CoapplicantIncome  LoanAmount  Loan_Amount_Term  \\\n",
       "0               5849                0.0         NaN             360.0   \n",
       "1               4583             1508.0       128.0             360.0   \n",
       "2               3000                0.0        66.0             360.0   \n",
       "3               2583             2358.0       120.0             360.0   \n",
       "4               6000                0.0       141.0             360.0   \n",
       "..               ...                ...         ...               ...   \n",
       "609             2900                0.0        71.0             360.0   \n",
       "610             4106                0.0        40.0             180.0   \n",
       "611             8072              240.0       253.0             360.0   \n",
       "612             7583                0.0       187.0             360.0   \n",
       "613             4583                0.0       133.0             360.0   \n",
       "\n",
       "     Credit_History Property_Area Loan_Status  \n",
       "0               1.0         Urban           Y  \n",
       "1               1.0         Rural           N  \n",
       "2               1.0         Urban           Y  \n",
       "3               1.0         Urban           Y  \n",
       "4               1.0         Urban           Y  \n",
       "..              ...           ...         ...  \n",
       "609             1.0         Rural           Y  \n",
       "610             1.0         Rural           Y  \n",
       "611             1.0         Urban           Y  \n",
       "612             1.0         Urban           Y  \n",
       "613             0.0     Semiurban           N  \n",
       "\n",
       "[614 rows x 13 columns]"
      ]
     },
     "execution_count": 4,
     "metadata": {},
     "output_type": "execute_result"
    }
   ],
   "source": [
    "loan_train"
   ]
  },
  {
   "cell_type": "markdown",
   "metadata": {
    "papermill": {
     "duration": 0.074258,
     "end_time": "2020-12-27T17:03:49.508394",
     "exception": false,
     "start_time": "2020-12-27T17:03:49.434136",
     "status": "completed"
    },
    "tags": []
   },
   "source": [
    "> ### Here, we can see there are many rows and many columns, To know how many records and columns are available in our dataset, we can use the `shape` attribute or we can use `len()` to know how many records and how many features available in the dataset."
   ]
  },
  {
   "cell_type": "code",
   "execution_count": 5,
   "metadata": {
    "execution": {
     "iopub.execute_input": "2020-12-27T17:03:49.663137Z",
     "iopub.status.busy": "2020-12-27T17:03:49.662209Z",
     "iopub.status.idle": "2020-12-27T17:03:49.668784Z",
     "shell.execute_reply": "2020-12-27T17:03:49.667922Z"
    },
    "papermill": {
     "duration": 0.086186,
     "end_time": "2020-12-27T17:03:49.668923",
     "exception": false,
     "start_time": "2020-12-27T17:03:49.582737",
     "status": "completed"
    },
    "tags": []
   },
   "outputs": [
    {
     "name": "stdout",
     "output_type": "stream",
     "text": [
      "Rows:  614\n"
     ]
    }
   ],
   "source": [
    "print(\"Rows: \", len(loan_train))"
   ]
  },
  {
   "cell_type": "markdown",
   "metadata": {
    "papermill": {
     "duration": 0.080726,
     "end_time": "2020-12-27T17:03:49.825931",
     "exception": false,
     "start_time": "2020-12-27T17:03:49.745205",
     "status": "completed"
    },
    "tags": []
   },
   "source": [
    "Pandas has inbuild attribute to get all column from the dataset, With the help of this feature we can get the how many column available we have."
   ]
  },
  {
   "cell_type": "code",
   "execution_count": 6,
   "metadata": {
    "execution": {
     "iopub.execute_input": "2020-12-27T17:03:49.987622Z",
     "iopub.status.busy": "2020-12-27T17:03:49.986724Z",
     "iopub.status.idle": "2020-12-27T17:03:49.989883Z",
     "shell.execute_reply": "2020-12-27T17:03:49.990563Z"
    },
    "papermill": {
     "duration": 0.087859,
     "end_time": "2020-12-27T17:03:49.990718",
     "exception": false,
     "start_time": "2020-12-27T17:03:49.902859",
     "status": "completed"
    },
    "tags": []
   },
   "outputs": [
    {
     "name": "stdout",
     "output_type": "stream",
     "text": [
      "Columns:  13\n"
     ]
    }
   ],
   "source": [
    "print(\"Columns: \", len(loan_train.columns))"
   ]
  },
  {
   "cell_type": "markdown",
   "metadata": {
    "papermill": {
     "duration": 0.075647,
     "end_time": "2020-12-27T17:03:50.142295",
     "exception": false,
     "start_time": "2020-12-27T17:03:50.066648",
     "status": "completed"
    },
    "tags": []
   },
   "source": [
    "Also we can get the shape of the dataset using `shape` attribute"
   ]
  },
  {
   "cell_type": "code",
   "execution_count": 7,
   "metadata": {
    "execution": {
     "iopub.execute_input": "2020-12-27T17:03:50.300859Z",
     "iopub.status.busy": "2020-12-27T17:03:50.300009Z",
     "iopub.status.idle": "2020-12-27T17:03:50.303100Z",
     "shell.execute_reply": "2020-12-27T17:03:50.303792Z"
    },
    "papermill": {
     "duration": 0.085152,
     "end_time": "2020-12-27T17:03:50.303947",
     "exception": false,
     "start_time": "2020-12-27T17:03:50.218795",
     "status": "completed"
    },
    "tags": []
   },
   "outputs": [
    {
     "name": "stdout",
     "output_type": "stream",
     "text": [
      "Shape :  (614, 13)\n"
     ]
    }
   ],
   "source": [
    "print(\"Shape : \", loan_train.shape)"
   ]
  },
  {
   "cell_type": "markdown",
   "metadata": {
    "papermill": {
     "duration": 0.07596,
     "end_time": "2020-12-27T17:03:50.457812",
     "exception": false,
     "start_time": "2020-12-27T17:03:50.381852",
     "status": "completed"
    },
    "tags": []
   },
   "source": [
    "> ### *After we collecting the data, Next step we need to understand what kind of data we have.*"
   ]
  },
  {
   "cell_type": "markdown",
   "metadata": {
    "papermill": {
     "duration": 0.076526,
     "end_time": "2020-12-27T17:03:50.610968",
     "exception": false,
     "start_time": "2020-12-27T17:03:50.534442",
     "status": "completed"
    },
    "tags": []
   },
   "source": [
    "### Also we can get the column as an list(array) from dataset\n",
    "\n",
    "> **Note: DataFrame.columns returns the total columns of the dataset,\n",
    "> Store the number of columns in variable `loan_train_columns`**"
   ]
  },
  {
   "cell_type": "code",
   "execution_count": 8,
   "metadata": {
    "execution": {
     "iopub.execute_input": "2020-12-27T17:03:50.770249Z",
     "iopub.status.busy": "2020-12-27T17:03:50.769231Z",
     "iopub.status.idle": "2020-12-27T17:03:50.774233Z",
     "shell.execute_reply": "2020-12-27T17:03:50.773413Z"
    },
    "papermill": {
     "duration": 0.087538,
     "end_time": "2020-12-27T17:03:50.774360",
     "exception": false,
     "start_time": "2020-12-27T17:03:50.686822",
     "status": "completed"
    },
    "tags": []
   },
   "outputs": [
    {
     "data": {
      "text/plain": [
       "Index(['Loan_ID', 'Gender', 'Married', 'Dependents', 'Education',\n",
       "       'Self_Employed', 'ApplicantIncome', 'CoapplicantIncome', 'LoanAmount',\n",
       "       'Loan_Amount_Term', 'Credit_History', 'Property_Area', 'Loan_Status'],\n",
       "      dtype='object')"
      ]
     },
     "execution_count": 8,
     "metadata": {},
     "output_type": "execute_result"
    }
   ],
   "source": [
    "loan_train_columns = loan_train.columns # assign to a variable\n",
    "loan_train_columns # print the list of columns"
   ]
  },
  {
   "cell_type": "markdown",
   "metadata": {
    "papermill": {
     "duration": 0.086835,
     "end_time": "2020-12-27T17:03:50.953003",
     "exception": false,
     "start_time": "2020-12-27T17:03:50.866168",
     "status": "completed"
    },
    "tags": []
   },
   "source": [
    "### Now, Understanding the Data"
   ]
  },
  {
   "cell_type": "markdown",
   "metadata": {
    "papermill": {
     "duration": 0.07856,
     "end_time": "2020-12-27T17:03:51.111125",
     "exception": false,
     "start_time": "2020-12-27T17:03:51.032565",
     "status": "completed"
    },
    "tags": []
   },
   "source": [
    "- First of all we use the `loan_train.describe()` method to shows the important information from the dataset\n",
    "- It provides the `count`, `mean`, `standard deviation (std)`, `min`, `quartiles` and `max` in its output."
   ]
  },
  {
   "cell_type": "code",
   "execution_count": 9,
   "metadata": {
    "execution": {
     "iopub.execute_input": "2020-12-27T17:03:51.279462Z",
     "iopub.status.busy": "2020-12-27T17:03:51.278592Z",
     "iopub.status.idle": "2020-12-27T17:03:51.309487Z",
     "shell.execute_reply": "2020-12-27T17:03:51.310138Z"
    },
    "papermill": {
     "duration": 0.121748,
     "end_time": "2020-12-27T17:03:51.310310",
     "exception": false,
     "start_time": "2020-12-27T17:03:51.188562",
     "status": "completed"
    },
    "tags": []
   },
   "outputs": [
    {
     "data": {
      "text/html": [
       "<div>\n",
       "<style scoped>\n",
       "    .dataframe tbody tr th:only-of-type {\n",
       "        vertical-align: middle;\n",
       "    }\n",
       "\n",
       "    .dataframe tbody tr th {\n",
       "        vertical-align: top;\n",
       "    }\n",
       "\n",
       "    .dataframe thead th {\n",
       "        text-align: right;\n",
       "    }\n",
       "</style>\n",
       "<table border=\"1\" class=\"dataframe\">\n",
       "  <thead>\n",
       "    <tr style=\"text-align: right;\">\n",
       "      <th></th>\n",
       "      <th>ApplicantIncome</th>\n",
       "      <th>CoapplicantIncome</th>\n",
       "      <th>LoanAmount</th>\n",
       "      <th>Loan_Amount_Term</th>\n",
       "      <th>Credit_History</th>\n",
       "    </tr>\n",
       "  </thead>\n",
       "  <tbody>\n",
       "    <tr>\n",
       "      <th>count</th>\n",
       "      <td>614.000000</td>\n",
       "      <td>614.000000</td>\n",
       "      <td>592.000000</td>\n",
       "      <td>600.00000</td>\n",
       "      <td>564.000000</td>\n",
       "    </tr>\n",
       "    <tr>\n",
       "      <th>mean</th>\n",
       "      <td>5403.459283</td>\n",
       "      <td>1621.245798</td>\n",
       "      <td>146.412162</td>\n",
       "      <td>342.00000</td>\n",
       "      <td>0.842199</td>\n",
       "    </tr>\n",
       "    <tr>\n",
       "      <th>std</th>\n",
       "      <td>6109.041673</td>\n",
       "      <td>2926.248369</td>\n",
       "      <td>85.587325</td>\n",
       "      <td>65.12041</td>\n",
       "      <td>0.364878</td>\n",
       "    </tr>\n",
       "    <tr>\n",
       "      <th>min</th>\n",
       "      <td>150.000000</td>\n",
       "      <td>0.000000</td>\n",
       "      <td>9.000000</td>\n",
       "      <td>12.00000</td>\n",
       "      <td>0.000000</td>\n",
       "    </tr>\n",
       "    <tr>\n",
       "      <th>25%</th>\n",
       "      <td>2877.500000</td>\n",
       "      <td>0.000000</td>\n",
       "      <td>100.000000</td>\n",
       "      <td>360.00000</td>\n",
       "      <td>1.000000</td>\n",
       "    </tr>\n",
       "    <tr>\n",
       "      <th>50%</th>\n",
       "      <td>3812.500000</td>\n",
       "      <td>1188.500000</td>\n",
       "      <td>128.000000</td>\n",
       "      <td>360.00000</td>\n",
       "      <td>1.000000</td>\n",
       "    </tr>\n",
       "    <tr>\n",
       "      <th>75%</th>\n",
       "      <td>5795.000000</td>\n",
       "      <td>2297.250000</td>\n",
       "      <td>168.000000</td>\n",
       "      <td>360.00000</td>\n",
       "      <td>1.000000</td>\n",
       "    </tr>\n",
       "    <tr>\n",
       "      <th>max</th>\n",
       "      <td>81000.000000</td>\n",
       "      <td>41667.000000</td>\n",
       "      <td>700.000000</td>\n",
       "      <td>480.00000</td>\n",
       "      <td>1.000000</td>\n",
       "    </tr>\n",
       "  </tbody>\n",
       "</table>\n",
       "</div>"
      ],
      "text/plain": [
       "       ApplicantIncome  CoapplicantIncome  LoanAmount  Loan_Amount_Term  \\\n",
       "count       614.000000         614.000000  592.000000         600.00000   \n",
       "mean       5403.459283        1621.245798  146.412162         342.00000   \n",
       "std        6109.041673        2926.248369   85.587325          65.12041   \n",
       "min         150.000000           0.000000    9.000000          12.00000   \n",
       "25%        2877.500000           0.000000  100.000000         360.00000   \n",
       "50%        3812.500000        1188.500000  128.000000         360.00000   \n",
       "75%        5795.000000        2297.250000  168.000000         360.00000   \n",
       "max       81000.000000       41667.000000  700.000000         480.00000   \n",
       "\n",
       "       Credit_History  \n",
       "count      564.000000  \n",
       "mean         0.842199  \n",
       "std          0.364878  \n",
       "min          0.000000  \n",
       "25%          1.000000  \n",
       "50%          1.000000  \n",
       "75%          1.000000  \n",
       "max          1.000000  "
      ]
     },
     "execution_count": 9,
     "metadata": {},
     "output_type": "execute_result"
    }
   ],
   "source": [
    "loan_train.describe()"
   ]
  },
  {
   "cell_type": "markdown",
   "metadata": {
    "papermill": {
     "duration": 0.077978,
     "end_time": "2020-12-27T17:03:51.468941",
     "exception": false,
     "start_time": "2020-12-27T17:03:51.390963",
     "status": "completed"
    },
    "tags": []
   },
   "source": [
    "#### As I said the above cell, this the information of all the methamatical details from dataset. Like `count`, `mean`, `standard deviation (std)`, `min`, `quartiles(25%, 50%, 75%)` and `max`."
   ]
  },
  {
   "cell_type": "markdown",
   "metadata": {
    "papermill": {
     "duration": 0.077684,
     "end_time": "2020-12-27T17:03:51.624643",
     "exception": false,
     "start_time": "2020-12-27T17:03:51.546959",
     "status": "completed"
    },
    "tags": []
   },
   "source": [
    "> ### Another method is `info()`, This method show us the information about the dataset, Like\n",
    "\n",
    "1. What's the type of culumn have?\n",
    "- How many rows available in the dataset?\n",
    "- What are the features are there?\n",
    "- How many null values available in the dataset?\n",
    "- Ans so on..."
   ]
  },
  {
   "cell_type": "code",
   "execution_count": 10,
   "metadata": {
    "execution": {
     "iopub.execute_input": "2020-12-27T17:03:51.802051Z",
     "iopub.status.busy": "2020-12-27T17:03:51.800897Z",
     "iopub.status.idle": "2020-12-27T17:03:51.806064Z",
     "shell.execute_reply": "2020-12-27T17:03:51.805054Z"
    },
    "papermill": {
     "duration": 0.103738,
     "end_time": "2020-12-27T17:03:51.806241",
     "exception": false,
     "start_time": "2020-12-27T17:03:51.702503",
     "status": "completed"
    },
    "tags": []
   },
   "outputs": [
    {
     "name": "stdout",
     "output_type": "stream",
     "text": [
      "<class 'pandas.core.frame.DataFrame'>\n",
      "RangeIndex: 614 entries, 0 to 613\n",
      "Data columns (total 13 columns):\n",
      " #   Column             Non-Null Count  Dtype  \n",
      "---  ------             --------------  -----  \n",
      " 0   Loan_ID            614 non-null    object \n",
      " 1   Gender             601 non-null    object \n",
      " 2   Married            611 non-null    object \n",
      " 3   Dependents         599 non-null    object \n",
      " 4   Education          614 non-null    object \n",
      " 5   Self_Employed      582 non-null    object \n",
      " 6   ApplicantIncome    614 non-null    int64  \n",
      " 7   CoapplicantIncome  614 non-null    float64\n",
      " 8   LoanAmount         592 non-null    float64\n",
      " 9   Loan_Amount_Term   600 non-null    float64\n",
      " 10  Credit_History     564 non-null    float64\n",
      " 11  Property_Area      614 non-null    object \n",
      " 12  Loan_Status        614 non-null    object \n",
      "dtypes: float64(4), int64(1), object(8)\n",
      "memory usage: 62.5+ KB\n"
     ]
    }
   ],
   "source": [
    "loan_train.info()\n",
    " "
   ]
  },
  {
   "cell_type": "markdown",
   "metadata": {
    "papermill": {
     "duration": 0.079865,
     "end_time": "2020-12-27T17:03:51.976023",
     "exception": false,
     "start_time": "2020-12-27T17:03:51.896158",
     "status": "completed"
    },
    "tags": []
   },
   "source": [
    "As we can see in the output.\n",
    "\n",
    "1. There are `614` entries\n",
    "- There are total 13 features (0 to 12)\n",
    "- There are three types of datatype `dtypes: float64(4), int64(1), object(8)`\n",
    "- It's Memory usage that is, `memory usage: 62.5+ KB`\n",
    "- Also, We can check how many missing values available in the `Non-Null Count` column"
   ]
  },
  {
   "cell_type": "markdown",
   "metadata": {
    "papermill": {
     "duration": 0.087004,
     "end_time": "2020-12-27T17:03:52.144124",
     "exception": false,
     "start_time": "2020-12-27T17:03:52.057120",
     "status": "completed"
    },
    "tags": []
   },
   "source": [
    "<a id=\"2\"></a><br>\n",
    "# 2. Exploratory Data Analysis\n",
    "\n",
    "In this section, We learn about extra information about data and it's characteristics.\n"
   ]
  },
  {
   "cell_type": "markdown",
   "metadata": {
    "papermill": {
     "duration": 0.084281,
     "end_time": "2020-12-27T17:03:52.308895",
     "exception": false,
     "start_time": "2020-12-27T17:03:52.224614",
     "status": "completed"
    },
    "tags": []
   },
   "source": [
    "- First of all, We explore object type of data\n",
    "So let's make a function to know how many types of values available in the column"
   ]
  },
  {
   "cell_type": "code",
   "execution_count": 11,
   "metadata": {
    "execution": {
     "iopub.execute_input": "2020-12-27T17:03:52.484733Z",
     "iopub.status.busy": "2020-12-27T17:03:52.484049Z",
     "iopub.status.idle": "2020-12-27T17:03:52.488463Z",
     "shell.execute_reply": "2020-12-27T17:03:52.487784Z"
    },
    "papermill": {
     "duration": 0.094982,
     "end_time": "2020-12-27T17:03:52.488574",
     "exception": false,
     "start_time": "2020-12-27T17:03:52.393592",
     "status": "completed"
    },
    "tags": []
   },
   "outputs": [],
   "source": [
    "def explore_object_type(df ,feature_name):\n",
    "    \"\"\"\n",
    "    To know, How many values available in object('categorical') type of features\n",
    "    And Return Categorical values with Count.\n",
    "    \"\"\"    \n",
    "    if df[feature_name].dtype ==  'object':\n",
    "        print(df[feature_name].value_counts())"
   ]
  },
  {
   "cell_type": "markdown",
   "metadata": {
    "papermill": {
     "duration": 0.093295,
     "end_time": "2020-12-27T17:03:52.635713",
     "exception": false,
     "start_time": "2020-12-27T17:03:52.542418",
     "status": "completed"
    },
    "tags": []
   },
   "source": [
    "- After defined a function, Let's call it. and check what's the output of our created function."
   ]
  },
  {
   "cell_type": "code",
   "execution_count": 12,
   "metadata": {
    "execution": {
     "iopub.execute_input": "2020-12-27T17:03:52.752742Z",
     "iopub.status.busy": "2020-12-27T17:03:52.751868Z",
     "iopub.status.idle": "2020-12-27T17:03:52.755505Z",
     "shell.execute_reply": "2020-12-27T17:03:52.756235Z"
    },
    "papermill": {
     "duration": 0.06636,
     "end_time": "2020-12-27T17:03:52.756484",
     "exception": false,
     "start_time": "2020-12-27T17:03:52.690124",
     "status": "completed"
    },
    "tags": []
   },
   "outputs": [
    {
     "name": "stdout",
     "output_type": "stream",
     "text": [
      "Male      489\n",
      "Female    112\n",
      "Name: Gender, dtype: int64\n"
     ]
    }
   ],
   "source": [
    "# Now, Test and Call a function for gender only\n",
    "explore_object_type(loan_train, 'Gender')"
   ]
  },
  {
   "cell_type": "markdown",
   "metadata": {
    "papermill": {
     "duration": 0.07894,
     "end_time": "2020-12-27T17:03:52.917234",
     "exception": false,
     "start_time": "2020-12-27T17:03:52.838294",
     "status": "completed"
    },
    "tags": []
   },
   "source": [
    "- Here's one little issue occurred, Suppose in your datasets there are lots of feature to defined like this above code. "
   ]
  },
  {
   "cell_type": "code",
   "execution_count": 13,
   "metadata": {
    "execution": {
     "iopub.execute_input": "2020-12-27T17:03:53.092070Z",
     "iopub.status.busy": "2020-12-27T17:03:53.091237Z",
     "iopub.status.idle": "2020-12-27T17:03:53.097739Z",
     "shell.execute_reply": "2020-12-27T17:03:53.096621Z"
    },
    "papermill": {
     "duration": 0.102506,
     "end_time": "2020-12-27T17:03:53.097906",
     "exception": false,
     "start_time": "2020-12-27T17:03:52.995400",
     "status": "completed"
    },
    "tags": []
   },
   "outputs": [
    {
     "name": "stdout",
     "output_type": "stream",
     "text": [
      "\n",
      "\"Loan_ID's\" Values with count are :\n",
      "LP001002    1\n",
      "LP002328    1\n",
      "LP002305    1\n",
      "LP002308    1\n",
      "LP002314    1\n",
      "           ..\n",
      "LP001692    1\n",
      "LP001693    1\n",
      "LP001698    1\n",
      "LP001699    1\n",
      "LP002990    1\n",
      "Name: Loan_ID, Length: 614, dtype: int64\n",
      "\n",
      "\"Gender's\" Values with count are :\n",
      "Male      489\n",
      "Female    112\n",
      "Name: Gender, dtype: int64\n",
      "\n",
      "\"Married's\" Values with count are :\n",
      "Yes    398\n",
      "No     213\n",
      "Name: Married, dtype: int64\n",
      "\n",
      "\"Dependents's\" Values with count are :\n",
      "0     345\n",
      "1     102\n",
      "2     101\n",
      "3+     51\n",
      "Name: Dependents, dtype: int64\n",
      "\n",
      "\"Education's\" Values with count are :\n",
      "Graduate        480\n",
      "Not Graduate    134\n",
      "Name: Education, dtype: int64\n",
      "\n",
      "\"Self_Employed's\" Values with count are :\n",
      "No     500\n",
      "Yes     82\n",
      "Name: Self_Employed, dtype: int64\n",
      "\n",
      "\"Property_Area's\" Values with count are :\n",
      "Semiurban    233\n",
      "Urban        202\n",
      "Rural        179\n",
      "Name: Property_Area, dtype: int64\n",
      "\n",
      "\"Loan_Status's\" Values with count are :\n",
      "Y    422\n",
      "N    192\n",
      "Name: Loan_Status, dtype: int64\n"
     ]
    }
   ],
   "source": [
    "# Solution is, Do you remember we have variable with name of `loan_train_columns`, Right,  let's use it\n",
    "# 'Loan_ID', 'Gender', 'Married', 'Dependents', 'Education', 'Self_Employed', 'Property_Area', 'Loan_Status'\n",
    "\n",
    "for featureName in loan_train_columns:\n",
    "    if loan_train[featureName].dtype == 'object':\n",
    "        print('\\n\"' + str(featureName) + '\\'s\" Values with count are :')\n",
    "        explore_object_type(loan_train, str(featureName))"
   ]
  },
  {
   "cell_type": "markdown",
   "metadata": {
    "papermill": {
     "duration": 0.082115,
     "end_time": "2020-12-27T17:03:53.262959",
     "exception": false,
     "start_time": "2020-12-27T17:03:53.180844",
     "status": "completed"
    },
    "tags": []
   },
   "source": [
    "> ## *Note: Your output maybe shorter or longer, It's totally depend upon your dataset's columns* "
   ]
  },
  {
   "cell_type": "markdown",
   "metadata": {
    "papermill": {
     "duration": 0.084377,
     "end_time": "2020-12-27T17:03:53.611039",
     "exception": false,
     "start_time": "2020-12-27T17:03:53.526662",
     "status": "completed"
    },
    "tags": []
   },
   "source": [
    "\n",
    "- We need to fill null values with `mean` and `median` using `missingno` package"
   ]
  },
  {
   "cell_type": "code",
   "execution_count": 14,
   "metadata": {
    "execution": {
     "iopub.execute_input": "2020-12-27T17:03:53.788552Z",
     "iopub.status.busy": "2020-12-27T17:03:53.787688Z",
     "iopub.status.idle": "2020-12-27T17:03:54.950714Z",
     "shell.execute_reply": "2020-12-27T17:03:54.950157Z"
    },
    "papermill": {
     "duration": 1.253165,
     "end_time": "2020-12-27T17:03:54.950827",
     "exception": false,
     "start_time": "2020-12-27T17:03:53.697662",
     "status": "completed"
    },
    "tags": []
   },
   "outputs": [],
   "source": [
    "import missingno as msno"
   ]
  },
  {
   "cell_type": "code",
   "execution_count": 15,
   "metadata": {
    "execution": {
     "iopub.execute_input": "2020-12-27T17:03:55.071414Z",
     "iopub.status.busy": "2020-12-27T17:03:55.070346Z",
     "iopub.status.idle": "2020-12-27T17:03:55.075130Z",
     "shell.execute_reply": "2020-12-27T17:03:55.075807Z"
    },
    "papermill": {
     "duration": 0.070217,
     "end_time": "2020-12-27T17:03:55.075988",
     "exception": false,
     "start_time": "2020-12-27T17:03:55.005771",
     "status": "completed"
    },
    "tags": []
   },
   "outputs": [
    {
     "data": {
      "text/plain": [
       "Loan_ID               0\n",
       "Gender               13\n",
       "Married               3\n",
       "Dependents           15\n",
       "Education             0\n",
       "Self_Employed        32\n",
       "ApplicantIncome       0\n",
       "CoapplicantIncome     0\n",
       "LoanAmount           22\n",
       "Loan_Amount_Term     14\n",
       "Credit_History       50\n",
       "Property_Area         0\n",
       "Loan_Status           0\n",
       "dtype: int64"
      ]
     },
     "execution_count": 15,
     "metadata": {},
     "output_type": "execute_result"
    }
   ],
   "source": [
    "# list of how many percentage values are missing\n",
    "loan_train\n",
    "\n",
    "loan_train.isna().sum()\n",
    "# round((loan_train.isna().sum() / len(loan_train)) * 100, 2)"
   ]
  },
  {
   "cell_type": "code",
   "execution_count": 16,
   "metadata": {
    "execution": {
     "iopub.execute_input": "2020-12-27T17:03:55.248185Z",
     "iopub.status.busy": "2020-12-27T17:03:55.247090Z",
     "iopub.status.idle": "2020-12-27T17:03:56.139392Z",
     "shell.execute_reply": "2020-12-27T17:03:56.138533Z"
    },
    "papermill": {
     "duration": 0.981531,
     "end_time": "2020-12-27T17:03:56.139523",
     "exception": false,
     "start_time": "2020-12-27T17:03:55.157992",
     "status": "completed"
    },
    "tags": []
   },
   "outputs": [
    {
     "data": {
      "text/plain": [
       "<AxesSubplot:>"
      ]
     },
     "execution_count": 16,
     "metadata": {},
     "output_type": "execute_result"
    },
    {
     "data": {
      "image/png": "[encoded data removed]",
      "text/plain": [
       "<Figure size 1800x720 with 3 Axes>"
      ]
     },
     "metadata": {
      "needs_background": "light"
     },
     "output_type": "display_data"
    }
   ],
   "source": [
    "msno.bar(loan_train)"
   ]
  },
  {
   "cell_type": "code",
   "execution_count": 17,
   "metadata": {
    "execution": {
     "iopub.execute_input": "2020-12-27T17:03:56.319704Z",
     "iopub.status.busy": "2020-12-27T17:03:56.318889Z",
     "iopub.status.idle": "2020-12-27T17:03:56.823538Z",
     "shell.execute_reply": "2020-12-27T17:03:56.822697Z"
    },
    "papermill": {
     "duration": 0.599727,
     "end_time": "2020-12-27T17:03:56.823697",
     "exception": false,
     "start_time": "2020-12-27T17:03:56.223970",
     "status": "completed"
    },
    "tags": []
   },
   "outputs": [
    {
     "data": {
      "text/plain": [
       "<AxesSubplot:>"
      ]
     },
     "execution_count": 17,
     "metadata": {},
     "output_type": "execute_result"
    },
    {
     "data": {
      "image/png": "[encoded data removed]",
      "text/plain": [
       "<Figure size 1800x720 with 2 Axes>"
      ]
     },
     "metadata": {
      "needs_background": "light"
     },
     "output_type": "display_data"
    }
   ],
   "source": [
    "msno.matrix(loan_train )\n"
   ]
  },
  {
   "cell_type": "markdown",
   "metadata": {
    "papermill": {
     "duration": 0.060966,
     "end_time": "2020-12-27T17:03:56.951071",
     "exception": false,
     "start_time": "2020-12-27T17:03:56.890105",
     "status": "completed"
    },
    "tags": []
   },
   "source": [
    "- As we can see here, there are too many columns missing with small amount of null values so we use `mean` amd `mode` to replace with `NaN` values."
   ]
  },
  {
   "cell_type": "code",
   "execution_count": 18,
   "metadata": {
    "execution": {
     "iopub.execute_input": "2020-12-27T17:03:57.083037Z",
     "iopub.status.busy": "2020-12-27T17:03:57.081285Z",
     "iopub.status.idle": "2020-12-27T17:03:57.088820Z",
     "shell.execute_reply": "2020-12-27T17:03:57.089302Z"
    },
    "papermill": {
     "duration": 0.078718,
     "end_time": "2020-12-27T17:03:57.089480",
     "exception": false,
     "start_time": "2020-12-27T17:03:57.010762",
     "status": "completed"
    },
    "tags": []
   },
   "outputs": [],
   "source": [
    "loan_train['Credit_History'].fillna(loan_train['Credit_History'].mode(), inplace=True) # Mode\n",
    "loan_test['Credit_History'].fillna(loan_test['Credit_History'].mode(), inplace=True) # Mode\n",
    "\n",
    "\n",
    "loan_train['LoanAmount'].fillna(loan_train['LoanAmount'].mean(), inplace=True) # Mean\n",
    "loan_test['LoanAmount'].fillna(loan_test['LoanAmount'].mean(), inplace=True) # Mean"
   ]
  },
  {
   "cell_type": "markdown",
   "metadata": {
    "papermill": {
     "duration": 0.058459,
     "end_time": "2020-12-27T17:03:57.207124",
     "exception": false,
     "start_time": "2020-12-27T17:03:57.148665",
     "status": "completed"
    },
    "tags": []
   },
   "source": [
    "### # convert Categorical variable with Numerical values."
   ]
  },
  {
   "cell_type": "markdown",
   "metadata": {
    "papermill": {
     "duration": 0.058664,
     "end_time": "2020-12-27T17:03:57.325229",
     "exception": false,
     "start_time": "2020-12-27T17:03:57.266565",
     "status": "completed"
    },
    "tags": []
   },
   "source": [
    "`Loan_Status` feature boolean values, So we replace `Y` values with `1` and `N` values with `0`\n",
    "and same for other `Boolean` types of columns"
   ]
  },
  {
   "cell_type": "code",
   "execution_count": 19,
   "metadata": {
    "execution": {
     "iopub.execute_input": "2020-12-27T17:03:57.456284Z",
     "iopub.status.busy": "2020-12-27T17:03:57.453406Z",
     "iopub.status.idle": "2020-12-27T17:03:57.473090Z",
     "shell.execute_reply": "2020-12-27T17:03:57.472417Z"
    },
    "papermill": {
     "duration": 0.087958,
     "end_time": "2020-12-27T17:03:57.473204",
     "exception": false,
     "start_time": "2020-12-27T17:03:57.385246",
     "status": "completed"
    },
    "tags": []
   },
   "outputs": [],
   "source": [
    "loan_train.Loan_Status = loan_train.Loan_Status.replace({\"Y\": 1, \"N\" : 0})\n",
    "# loan_test.Loan_Status = loan_test.Loan_Status.replace({\"Y\": 1, \"N\" : 0}) \n",
    "\n",
    "loan_train.Gender = loan_train.Gender.replace({\"Male\": 1, \"Female\" : 0})\n",
    "loan_test.Gender = loan_test.Gender.replace({\"Male\": 1, \"Female\" : 0})\n",
    "\n",
    "loan_train.Married = loan_train.Married.replace({\"Yes\": 1, \"No\" : 0})\n",
    "loan_test.Married = loan_test.Married.replace({\"Yes\": 1, \"No\" : 0})\n",
    "\n",
    "loan_train.Self_Employed = loan_train.Self_Employed.replace({\"Yes\": 1, \"No\" : 0})\n",
    "loan_test.Self_Employed = loan_test.Self_Employed.replace({\"Yes\": 1, \"No\" : 0})\n"
   ]
  },
  {
   "cell_type": "code",
   "execution_count": 20,
   "metadata": {
    "execution": {
     "iopub.execute_input": "2020-12-27T17:03:57.613039Z",
     "iopub.status.busy": "2020-12-27T17:03:57.607549Z",
     "iopub.status.idle": "2020-12-27T17:03:57.617049Z",
     "shell.execute_reply": "2020-12-27T17:03:57.616310Z"
    },
    "papermill": {
     "duration": 0.084405,
     "end_time": "2020-12-27T17:03:57.617174",
     "exception": false,
     "start_time": "2020-12-27T17:03:57.532769",
     "status": "completed"
    },
    "tags": []
   },
   "outputs": [],
   "source": [
    "\n",
    "loan_train['Gender'].fillna(loan_train['Gender'].mode()[0], inplace=True)\n",
    "loan_test['Gender'].fillna(loan_test['Gender'].mode()[0], inplace=True)\n",
    "\n",
    "loan_train['Dependents'].fillna(loan_train['Dependents'].mode()[0], inplace=True)\n",
    "loan_test['Dependents'].fillna(loan_test['Dependents'].mode()[0], inplace=True)\n",
    "\n",
    "loan_train['Married'].fillna(loan_train['Married'].mode()[0], inplace=True)\n",
    "loan_test['Married'].fillna(loan_test['Married'].mode()[0], inplace=True)\n",
    "\n",
    "loan_train['Credit_History'].fillna(loan_train['Credit_History'].mean(), inplace=True)\n",
    "loan_test['Credit_History'].fillna(loan_test['Credit_History'].mean(), inplace=True)\n"
   ]
  },
  {
   "cell_type": "markdown",
   "metadata": {
    "papermill": {
     "duration": 0.087175,
     "end_time": "2020-12-27T17:03:57.791759",
     "exception": false,
     "start_time": "2020-12-27T17:03:57.704584",
     "status": "completed"
    },
    "tags": []
   },
   "source": [
    "* Here, `Property_Area`, `Dependents` and `Education` has multiple values so now we can use `LabelEncoder` from `sklearn` package"
   ]
  },
  {
   "cell_type": "code",
   "execution_count": 21,
   "metadata": {
    "execution": {
     "iopub.execute_input": "2020-12-27T17:03:57.973603Z",
     "iopub.status.busy": "2020-12-27T17:03:57.972716Z",
     "iopub.status.idle": "2020-12-27T17:03:58.041301Z",
     "shell.execute_reply": "2020-12-27T17:03:58.040451Z"
    },
    "papermill": {
     "duration": 0.161629,
     "end_time": "2020-12-27T17:03:58.041483",
     "exception": false,
     "start_time": "2020-12-27T17:03:57.879854",
     "status": "completed"
    },
    "tags": []
   },
   "outputs": [],
   "source": [
    "from sklearn.preprocessing import LabelEncoder\n",
    "feature_col = ['Property_Area','Education', 'Dependents']\n",
    "le = LabelEncoder()\n",
    "for col in feature_col:\n",
    "    loan_train[col] = le.fit_transform(loan_train[col])\n",
    "    loan_test[col] = le.fit_transform(loan_test[col])"
   ]
  },
  {
   "cell_type": "markdown",
   "metadata": {
    "papermill": {
     "duration": 0.088212,
     "end_time": "2020-12-27T17:03:58.218568",
     "exception": false,
     "start_time": "2020-12-27T17:03:58.130356",
     "status": "completed"
    },
    "tags": []
   },
   "source": [
    "> ### Finally, We have all the features with numerical values,"
   ]
  },
  {
   "cell_type": "markdown",
   "metadata": {
    "papermill": {
     "duration": 0.086055,
     "end_time": "2020-12-27T17:03:58.390697",
     "exception": false,
     "start_time": "2020-12-27T17:03:58.304642",
     "status": "completed"
    },
    "tags": []
   },
   "source": [
    "<a id=\"3\"></a><br>\n",
    "# 3. Data Visualizations\n",
    "\n",
    "\n",
    "In this section, We are showing the visual information from the dataset, For that we need some pakages that are `matplotlib` and `seaborn`\n",
    "\n"
   ]
  },
  {
   "cell_type": "code",
   "execution_count": 22,
   "metadata": {
    "execution": {
     "iopub.execute_input": "2020-12-27T17:03:58.571707Z",
     "iopub.status.busy": "2020-12-27T17:03:58.570667Z",
     "iopub.status.idle": "2020-12-27T17:03:58.574995Z",
     "shell.execute_reply": "2020-12-27T17:03:58.574274Z"
    },
    "papermill": {
     "duration": 0.097964,
     "end_time": "2020-12-27T17:03:58.575136",
     "exception": false,
     "start_time": "2020-12-27T17:03:58.477172",
     "status": "completed"
    },
    "tags": []
   },
   "outputs": [],
   "source": [
    "import matplotlib.pyplot as plt\n",
    "%matplotlib inline\n",
    "\n",
    "\n",
    "import seaborn as sns\n",
    "sns.set_style('dark')\n"
   ]
  },
  {
   "cell_type": "code",
   "execution_count": 23,
   "metadata": {
    "execution": {
     "iopub.execute_input": "2020-12-27T17:03:58.770850Z",
     "iopub.status.busy": "2020-12-27T17:03:58.759054Z",
     "iopub.status.idle": "2020-12-27T17:03:58.797452Z",
     "shell.execute_reply": "2020-12-27T17:03:58.796615Z"
    },
    "papermill": {
     "duration": 0.132018,
     "end_time": "2020-12-27T17:03:58.797581",
     "exception": false,
     "start_time": "2020-12-27T17:03:58.665563",
     "status": "completed"
    },
    "tags": []
   },
   "outputs": [
    {
     "data": {
      "text/html": [
       "<div>\n",
       "<style scoped>\n",
       "    .dataframe tbody tr th:only-of-type {\n",
       "        vertical-align: middle;\n",
       "    }\n",
       "\n",
       "    .dataframe tbody tr th {\n",
       "        vertical-align: top;\n",
       "    }\n",
       "\n",
       "    .dataframe thead th {\n",
       "        text-align: right;\n",
       "    }\n",
       "</style>\n",
       "<table border=\"1\" class=\"dataframe\">\n",
       "  <thead>\n",
       "    <tr style=\"text-align: right;\">\n",
       "      <th></th>\n",
       "      <th>Loan_ID</th>\n",
       "      <th>Gender</th>\n",
       "      <th>Married</th>\n",
       "      <th>Dependents</th>\n",
       "      <th>Education</th>\n",
       "      <th>Self_Employed</th>\n",
       "      <th>ApplicantIncome</th>\n",
       "      <th>CoapplicantIncome</th>\n",
       "      <th>LoanAmount</th>\n",
       "      <th>Loan_Amount_Term</th>\n",
       "      <th>Credit_History</th>\n",
       "      <th>Property_Area</th>\n",
       "      <th>Loan_Status</th>\n",
       "    </tr>\n",
       "  </thead>\n",
       "  <tbody>\n",
       "    <tr>\n",
       "      <th>0</th>\n",
       "      <td>LP001002</td>\n",
       "      <td>1.0</td>\n",
       "      <td>0.0</td>\n",
       "      <td>0</td>\n",
       "      <td>0</td>\n",
       "      <td>0.0</td>\n",
       "      <td>5849</td>\n",
       "      <td>0.0</td>\n",
       "      <td>146.412162</td>\n",
       "      <td>360.0</td>\n",
       "      <td>1.0</td>\n",
       "      <td>2</td>\n",
       "      <td>1</td>\n",
       "    </tr>\n",
       "    <tr>\n",
       "      <th>1</th>\n",
       "      <td>LP001003</td>\n",
       "      <td>1.0</td>\n",
       "      <td>1.0</td>\n",
       "      <td>1</td>\n",
       "      <td>0</td>\n",
       "      <td>0.0</td>\n",
       "      <td>4583</td>\n",
       "      <td>1508.0</td>\n",
       "      <td>128.000000</td>\n",
       "      <td>360.0</td>\n",
       "      <td>1.0</td>\n",
       "      <td>0</td>\n",
       "      <td>0</td>\n",
       "    </tr>\n",
       "    <tr>\n",
       "      <th>2</th>\n",
       "      <td>LP001005</td>\n",
       "      <td>1.0</td>\n",
       "      <td>1.0</td>\n",
       "      <td>0</td>\n",
       "      <td>0</td>\n",
       "      <td>1.0</td>\n",
       "      <td>3000</td>\n",
       "      <td>0.0</td>\n",
       "      <td>66.000000</td>\n",
       "      <td>360.0</td>\n",
       "      <td>1.0</td>\n",
       "      <td>2</td>\n",
       "      <td>1</td>\n",
       "    </tr>\n",
       "    <tr>\n",
       "      <th>3</th>\n",
       "      <td>LP001006</td>\n",
       "      <td>1.0</td>\n",
       "      <td>1.0</td>\n",
       "      <td>0</td>\n",
       "      <td>1</td>\n",
       "      <td>0.0</td>\n",
       "      <td>2583</td>\n",
       "      <td>2358.0</td>\n",
       "      <td>120.000000</td>\n",
       "      <td>360.0</td>\n",
       "      <td>1.0</td>\n",
       "      <td>2</td>\n",
       "      <td>1</td>\n",
       "    </tr>\n",
       "    <tr>\n",
       "      <th>4</th>\n",
       "      <td>LP001008</td>\n",
       "      <td>1.0</td>\n",
       "      <td>0.0</td>\n",
       "      <td>0</td>\n",
       "      <td>0</td>\n",
       "      <td>0.0</td>\n",
       "      <td>6000</td>\n",
       "      <td>0.0</td>\n",
       "      <td>141.000000</td>\n",
       "      <td>360.0</td>\n",
       "      <td>1.0</td>\n",
       "      <td>2</td>\n",
       "      <td>1</td>\n",
       "    </tr>\n",
       "    <tr>\n",
       "      <th>...</th>\n",
       "      <td>...</td>\n",
       "      <td>...</td>\n",
       "      <td>...</td>\n",
       "      <td>...</td>\n",
       "      <td>...</td>\n",
       "      <td>...</td>\n",
       "      <td>...</td>\n",
       "      <td>...</td>\n",
       "      <td>...</td>\n",
       "      <td>...</td>\n",
       "      <td>...</td>\n",
       "      <td>...</td>\n",
       "      <td>...</td>\n",
       "    </tr>\n",
       "    <tr>\n",
       "      <th>609</th>\n",
       "      <td>LP002978</td>\n",
       "      <td>0.0</td>\n",
       "      <td>0.0</td>\n",
       "      <td>0</td>\n",
       "      <td>0</td>\n",
       "      <td>0.0</td>\n",
       "      <td>2900</td>\n",
       "      <td>0.0</td>\n",
       "      <td>71.000000</td>\n",
       "      <td>360.0</td>\n",
       "      <td>1.0</td>\n",
       "      <td>0</td>\n",
       "      <td>1</td>\n",
       "    </tr>\n",
       "    <tr>\n",
       "      <th>610</th>\n",
       "      <td>LP002979</td>\n",
       "      <td>1.0</td>\n",
       "      <td>1.0</td>\n",
       "      <td>3</td>\n",
       "      <td>0</td>\n",
       "      <td>0.0</td>\n",
       "      <td>4106</td>\n",
       "      <td>0.0</td>\n",
       "      <td>40.000000</td>\n",
       "      <td>180.0</td>\n",
       "      <td>1.0</td>\n",
       "      <td>0</td>\n",
       "      <td>1</td>\n",
       "    </tr>\n",
       "    <tr>\n",
       "      <th>611</th>\n",
       "      <td>LP002983</td>\n",
       "      <td>1.0</td>\n",
       "      <td>1.0</td>\n",
       "      <td>1</td>\n",
       "      <td>0</td>\n",
       "      <td>0.0</td>\n",
       "      <td>8072</td>\n",
       "      <td>240.0</td>\n",
       "      <td>253.000000</td>\n",
       "      <td>360.0</td>\n",
       "      <td>1.0</td>\n",
       "      <td>2</td>\n",
       "      <td>1</td>\n",
       "    </tr>\n",
       "    <tr>\n",
       "      <th>612</th>\n",
       "      <td>LP002984</td>\n",
       "      <td>1.0</td>\n",
       "      <td>1.0</td>\n",
       "      <td>2</td>\n",
       "      <td>0</td>\n",
       "      <td>0.0</td>\n",
       "      <td>7583</td>\n",
       "      <td>0.0</td>\n",
       "      <td>187.000000</td>\n",
       "      <td>360.0</td>\n",
       "      <td>1.0</td>\n",
       "      <td>2</td>\n",
       "      <td>1</td>\n",
       "    </tr>\n",
       "    <tr>\n",
       "      <th>613</th>\n",
       "      <td>LP002990</td>\n",
       "      <td>0.0</td>\n",
       "      <td>0.0</td>\n",
       "      <td>0</td>\n",
       "      <td>0</td>\n",
       "      <td>1.0</td>\n",
       "      <td>4583</td>\n",
       "      <td>0.0</td>\n",
       "      <td>133.000000</td>\n",
       "      <td>360.0</td>\n",
       "      <td>0.0</td>\n",
       "      <td>1</td>\n",
       "      <td>0</td>\n",
       "    </tr>\n",
       "  </tbody>\n",
       "</table>\n",
       "<p>614 rows × 13 columns</p>\n",
       "</div>"
      ],
      "text/plain": [
       "      Loan_ID  Gender  Married  Dependents  Education  Self_Employed  \\\n",
       "0    LP001002     1.0      0.0           0          0            0.0   \n",
       "1    LP001003     1.0      1.0           1          0            0.0   \n",
       "2    LP001005     1.0      1.0           0          0            1.0   \n",
       "3    LP001006     1.0      1.0           0          1            0.0   \n",
       "4    LP001008     1.0      0.0           0          0            0.0   \n",
       "..        ...     ...      ...         ...        ...            ...   \n",
       "609  LP002978     0.0      0.0           0          0            0.0   \n",
       "610  LP002979     1.0      1.0           3          0            0.0   \n",
       "611  LP002983     1.0      1.0           1          0            0.0   \n",
       "612  LP002984     1.0      1.0           2          0            0.0   \n",
       "613  LP002990     0.0      0.0           0          0            1.0   \n",
       "\n",
       "     ApplicantIncome  CoapplicantIncome  LoanAmount  Loan_Amount_Term  \\\n",
       "0               5849                0.0  146.412162             360.0   \n",
       "1               4583             1508.0  128.000000             360.0   \n",
       "2               3000                0.0   66.000000             360.0   \n",
       "3               2583             2358.0  120.000000             360.0   \n",
       "4               6000                0.0  141.000000             360.0   \n",
       "..               ...                ...         ...               ...   \n",
       "609             2900                0.0   71.000000             360.0   \n",
       "610             4106                0.0   40.000000             180.0   \n",
       "611             8072              240.0  253.000000             360.0   \n",
       "612             7583                0.0  187.000000             360.0   \n",
       "613             4583                0.0  133.000000             360.0   \n",
       "\n",
       "     Credit_History  Property_Area  Loan_Status  \n",
       "0               1.0              2            1  \n",
       "1               1.0              0            0  \n",
       "2               1.0              2            1  \n",
       "3               1.0              2            1  \n",
       "4               1.0              2            1  \n",
       "..              ...            ...          ...  \n",
       "609             1.0              0            1  \n",
       "610             1.0              0            1  \n",
       "611             1.0              2            1  \n",
       "612             1.0              2            1  \n",
       "613             0.0              1            0  \n",
       "\n",
       "[614 rows x 13 columns]"
      ]
     },
     "execution_count": 23,
     "metadata": {},
     "output_type": "execute_result"
    }
   ],
   "source": [
    "loan_train"
   ]
  },
  {
   "cell_type": "code",
   "execution_count": 24,
   "metadata": {
    "execution": {
     "iopub.execute_input": "2020-12-27T17:03:58.984216Z",
     "iopub.status.busy": "2020-12-27T17:03:58.981194Z",
     "iopub.status.idle": "2020-12-27T17:03:59.486698Z",
     "shell.execute_reply": "2020-12-27T17:03:59.485858Z"
    },
    "papermill": {
     "duration": 0.599098,
     "end_time": "2020-12-27T17:03:59.486824",
     "exception": false,
     "start_time": "2020-12-27T17:03:58.887726",
     "status": "completed"
    },
    "tags": []
   },
   "outputs": [
    {
     "data": {
      "image/png": "[encoded data removed]",
      "text/plain": [
       "<Figure size 1296x576 with 1 Axes>"
      ]
     },
     "metadata": {},
     "output_type": "display_data"
    }
   ],
   "source": [
    "loan_train.plot(figsize=(18, 8))\n",
    "\n",
    "plt.show()"
   ]
  },
  {
   "cell_type": "code",
   "execution_count": 25,
   "metadata": {
    "execution": {
     "iopub.execute_input": "2020-12-27T17:03:59.809542Z",
     "iopub.status.busy": "2020-12-27T17:03:59.806567Z",
     "iopub.status.idle": "2020-12-27T17:04:00.526543Z",
     "shell.execute_reply": "2020-12-27T17:04:00.527251Z"
    },
    "papermill": {
     "duration": 0.948938,
     "end_time": "2020-12-27T17:04:00.527439",
     "exception": false,
     "start_time": "2020-12-27T17:03:59.578501",
     "status": "completed"
    },
    "tags": []
   },
   "outputs": [
    {
     "data": {
      "image/png": "[encoded data removed]",
      "text/plain": [
       "<Figure size 1296x432 with 2 Axes>"
      ]
     },
     "metadata": {},
     "output_type": "display_data"
    }
   ],
   "source": [
    "plt.figure(figsize=(18, 6))\n",
    "plt.subplot(1, 2, 1)\n",
    "\n",
    "\n",
    "loan_train['ApplicantIncome'].hist(bins=10)\n",
    "plt.title(\"Loan Application Amount \")\n",
    "\n",
    "plt.subplot(1, 2, 2)\n",
    "plt.grid()\n",
    "plt.hist(np.log(loan_train['LoanAmount']))\n",
    "plt.title(\"Log Loan Application Amount \")\n",
    "\n",
    "plt.show()"
   ]
  },
  {
   "cell_type": "code",
   "execution_count": 26,
   "metadata": {
    "execution": {
     "iopub.execute_input": "2020-12-27T17:04:00.732972Z",
     "iopub.status.busy": "2020-12-27T17:04:00.726110Z",
     "iopub.status.idle": "2020-12-27T17:04:01.126270Z",
     "shell.execute_reply": "2020-12-27T17:04:01.125721Z"
    },
    "papermill": {
     "duration": 0.503814,
     "end_time": "2020-12-27T17:04:01.126410",
     "exception": false,
     "start_time": "2020-12-27T17:04:00.622596",
     "status": "completed"
    },
    "tags": []
   },
   "outputs": [
    {
     "data": {
      "image/png": "[encoded data removed]",
      "text/plain": [
       "<Figure size 1296x432 with 1 Axes>"
      ]
     },
     "metadata": {},
     "output_type": "display_data"
    }
   ],
   "source": [
    "plt.figure(figsize=(18, 6))\n",
    "plt.title(\"Relation Between Applicatoin Income vs Loan Amount \")\n",
    "\n",
    "plt.grid()\n",
    "plt.scatter(loan_train['ApplicantIncome'] , loan_train['LoanAmount'], c='k', marker='x')\n",
    "plt.xlabel(\"Applicant Income\")\n",
    "plt.ylabel(\"Loan Amount\")\n",
    "plt.show()"
   ]
  },
  {
   "cell_type": "code",
   "execution_count": 27,
   "metadata": {
    "execution": {
     "iopub.execute_input": "2020-12-27T17:04:01.281180Z",
     "iopub.status.busy": "2020-12-27T17:04:01.276778Z",
     "iopub.status.idle": "2020-12-27T17:04:01.656670Z",
     "shell.execute_reply": "2020-12-27T17:04:01.655351Z"
    },
    "papermill": {
     "duration": 0.463987,
     "end_time": "2020-12-27T17:04:01.656859",
     "exception": false,
     "start_time": "2020-12-27T17:04:01.192872",
     "status": "completed"
    },
    "tags": []
   },
   "outputs": [
    {
     "data": {
      "image/png": "[encoded data removed]",
      "text/plain": [
       "<Figure size 864x432 with 1 Axes>"
      ]
     },
     "metadata": {},
     "output_type": "display_data"
    }
   ],
   "source": [
    "plt.figure(figsize=(12, 6))\n",
    "plt.plot(loan_train['Loan_Status'], loan_train['LoanAmount'])\n",
    "plt.title(\"Loan Application Amount \")\n",
    "plt.show()"
   ]
  },
  {
   "cell_type": "code",
   "execution_count": 28,
   "metadata": {
    "execution": {
     "iopub.execute_input": "2020-12-27T17:04:01.881675Z",
     "iopub.status.busy": "2020-12-27T17:04:01.880757Z",
     "iopub.status.idle": "2020-12-27T17:04:02.803789Z",
     "shell.execute_reply": "2020-12-27T17:04:02.804456Z"
    },
    "papermill": {
     "duration": 1.032103,
     "end_time": "2020-12-27T17:04:02.804622",
     "exception": false,
     "start_time": "2020-12-27T17:04:01.772519",
     "status": "completed"
    },
    "tags": []
   },
   "outputs": [
    {
     "data": {
      "image/png": "[encoded data removed]",
      "text/plain": [
       "<Figure size 864x576 with 2 Axes>"
      ]
     },
     "metadata": {},
     "output_type": "display_data"
    }
   ],
   "source": [
    "plt.figure(figsize=(12,8))\n",
    "sns.heatmap(loan_train.corr(), cmap='coolwarm', annot=True, fmt='.1f', linewidths=.1)\n",
    "plt.show()"
   ]
  },
  {
   "cell_type": "markdown",
   "metadata": {
    "papermill": {
     "duration": 0.101124,
     "end_time": "2020-12-27T17:04:03.008318",
     "exception": false,
     "start_time": "2020-12-27T17:04:02.907194",
     "status": "completed"
    },
    "tags": []
   },
   "source": [
    "In this heatmap, we can clearly seen the relation between two variables "
   ]
  },
  {
   "cell_type": "markdown",
   "metadata": {
    "papermill": {
     "duration": 0.112577,
     "end_time": "2020-12-27T17:04:03.230537",
     "exception": false,
     "start_time": "2020-12-27T17:04:03.117960",
     "status": "completed"
    },
    "tags": []
   },
   "source": [
    "<a id=\"4\"></a><br>\n",
    "# 4. Choose ML Model."
   ]
  },
  {
   "cell_type": "markdown",
   "metadata": {
    "papermill": {
     "duration": 0.108227,
     "end_time": "2020-12-27T17:04:03.450034",
     "exception": false,
     "start_time": "2020-12-27T17:04:03.341807",
     "status": "completed"
    },
    "tags": []
   },
   "source": [
    "* In this step, We have a lots of Machine Learning Model from sklearn package, and we need to decide which model is give us the better performance. then we use that model in final stage and send to the production level."
   ]
  },
  {
   "cell_type": "code",
   "execution_count": 29,
   "metadata": {
    "execution": {
     "iopub.execute_input": "2020-12-27T17:04:03.673986Z",
     "iopub.status.busy": "2020-12-27T17:04:03.673106Z",
     "iopub.status.idle": "2020-12-27T17:04:03.821320Z",
     "shell.execute_reply": "2020-12-27T17:04:03.820599Z"
    },
    "papermill": {
     "duration": 0.262064,
     "end_time": "2020-12-27T17:04:03.821499",
     "exception": false,
     "start_time": "2020-12-27T17:04:03.559435",
     "status": "completed"
    },
    "tags": []
   },
   "outputs": [],
   "source": [
    "# import ml model from sklearn pacakge\n",
    "\n",
    "from sklearn.linear_model import LogisticRegression\n",
    "\n",
    "from sklearn.metrics import accuracy_score\n"
   ]
  },
  {
   "cell_type": "markdown",
   "metadata": {
    "papermill": {
     "duration": 0.100442,
     "end_time": "2020-12-27T17:04:04.025569",
     "exception": false,
     "start_time": "2020-12-27T17:04:03.925127",
     "status": "completed"
    },
    "tags": []
   },
   "source": [
    "First of all, we are use `LogisticRegression` from `sklearn.linear_model` package. Here is the little information about `LogisticRegression`.\n",
    "\n",
    "`Logistic Regression` is a **classification algorithm**. It is used to predict a binary outcome (`1 / 0`, `Yes / No`, and `True / False`) given a set of independent variables. To represent binary / categorical outcome, we use dummy variables. You can also think of logistic regression as a special case of linear regression when the outcome variable is categorical, where we are using log of odds as the dependent variable.\n",
    "\n",
    "![](https://www.analyticsvidhya.com/wp-content/uploads/2015/10/logit.png)"
   ]
  },
  {
   "cell_type": "markdown",
   "metadata": {
    "papermill": {
     "duration": 0.102468,
     "end_time": "2020-12-27T17:04:04.230395",
     "exception": false,
     "start_time": "2020-12-27T17:04:04.127927",
     "status": "completed"
    },
    "tags": []
   },
   "source": [
    "* Let's build the model"
   ]
  },
  {
   "cell_type": "code",
   "execution_count": 30,
   "metadata": {
    "execution": {
     "iopub.execute_input": "2020-12-27T17:04:04.441903Z",
     "iopub.status.busy": "2020-12-27T17:04:04.441057Z",
     "iopub.status.idle": "2020-12-27T17:04:04.445534Z",
     "shell.execute_reply": "2020-12-27T17:04:04.444630Z"
    },
    "papermill": {
     "duration": 0.112699,
     "end_time": "2020-12-27T17:04:04.445663",
     "exception": false,
     "start_time": "2020-12-27T17:04:04.332964",
     "status": "completed"
    },
    "tags": []
   },
   "outputs": [],
   "source": [
    "logistic_model = LogisticRegression()"
   ]
  },
  {
   "cell_type": "markdown",
   "metadata": {
    "papermill": {
     "duration": 0.102392,
     "end_time": "2020-12-27T17:04:04.651094",
     "exception": false,
     "start_time": "2020-12-27T17:04:04.548702",
     "status": "completed"
    },
    "tags": []
   },
   "source": [
    "<a id=\"5\"></a><br>\n",
    "# 5. Traing the ML Model"
   ]
  },
  {
   "cell_type": "markdown",
   "metadata": {
    "papermill": {
     "duration": 0.10382,
     "end_time": "2020-12-27T17:04:04.857719",
     "exception": false,
     "start_time": "2020-12-27T17:04:04.753899",
     "status": "completed"
    },
    "tags": []
   },
   "source": [
    "> ### **Before fitting the model, We need to decide how many feature are available for testing and training, then after complete this step. fitt the model** \n",
    "\n",
    "Currently, we are using `Credit_History', 'Education', 'Gender` features for training so let's create train and test variables"
   ]
  },
  {
   "cell_type": "code",
   "execution_count": 31,
   "metadata": {
    "execution": {
     "iopub.execute_input": "2020-12-27T17:04:05.072524Z",
     "iopub.status.busy": "2020-12-27T17:04:05.071358Z",
     "iopub.status.idle": "2020-12-27T17:04:05.077668Z",
     "shell.execute_reply": "2020-12-27T17:04:05.076835Z"
    },
    "papermill": {
     "duration": 0.116909,
     "end_time": "2020-12-27T17:04:05.077797",
     "exception": false,
     "start_time": "2020-12-27T17:04:04.960888",
     "status": "completed"
    },
    "tags": []
   },
   "outputs": [],
   "source": [
    "train_features = ['Credit_History', 'Education', 'Gender']\n",
    "\n",
    "x_train = loan_train[train_features].values\n",
    "y_train = loan_train['Loan_Status'].values\n",
    "\n",
    "x_test = loan_test[train_features].values\n"
   ]
  },
  {
   "cell_type": "code",
   "execution_count": 32,
   "metadata": {
    "execution": {
     "iopub.execute_input": "2020-12-27T17:04:05.293577Z",
     "iopub.status.busy": "2020-12-27T17:04:05.292868Z",
     "iopub.status.idle": "2020-12-27T17:04:05.311108Z",
     "shell.execute_reply": "2020-12-27T17:04:05.310256Z"
    },
    "papermill": {
     "duration": 0.12969,
     "end_time": "2020-12-27T17:04:05.311235",
     "exception": false,
     "start_time": "2020-12-27T17:04:05.181545",
     "status": "completed"
    },
    "tags": []
   },
   "outputs": [
    {
     "data": {
      "text/html": [
       "<style>#sk-container-id-1 {color: black;background-color: white;}#sk-container-id-1 pre{padding: 0;}#sk-container-id-1 div.sk-toggleable {background-color: white;}#sk-container-id-1 label.sk-toggleable__label {cursor: pointer;display: block;width: 100%;margin-bottom: 0;padding: 0.3em;box-sizing: border-box;text-align: center;}#sk-container-id-1 label.sk-toggleable__label-arrow:before {content: \"▸\";float: left;margin-right: 0.25em;color: #696969;}#sk-container-id-1 label.sk-toggleable__label-arrow:hover:before {color: black;}#sk-container-id-1 div.sk-estimator:hover label.sk-toggleable__label-arrow:before {color: black;}#sk-container-id-1 div.sk-toggleable__content {max-height: 0;max-width: 0;overflow: hidden;text-align: left;background-color: #f0f8ff;}#sk-container-id-1 div.sk-toggleable__content pre {margin: 0.2em;color: black;border-radius: 0.25em;background-color: #f0f8ff;}#sk-container-id-1 input.sk-toggleable__control:checked~div.sk-toggleable__content {max-height: 200px;max-width: 100%;overflow: auto;}#sk-container-id-1 input.sk-toggleable__control:checked~label.sk-toggleable__label-arrow:before {content: \"▾\";}#sk-container-id-1 div.sk-estimator input.sk-toggleable__control:checked~label.sk-toggleable__label {background-color: #d4ebff;}#sk-container-id-1 div.sk-label input.sk-toggleable__control:checked~label.sk-toggleable__label {background-color: #d4ebff;}#sk-container-id-1 input.sk-hidden--visually {border: 0;clip: rect(1px 1px 1px 1px);clip: rect(1px, 1px, 1px, 1px);height: 1px;margin: -1px;overflow: hidden;padding: 0;position: absolute;width: 1px;}#sk-container-id-1 div.sk-estimator {font-family: monospace;background-color: #f0f8ff;border: 1px dotted black;border-radius: 0.25em;box-sizing: border-box;margin-bottom: 0.5em;}#sk-container-id-1 div.sk-estimator:hover {background-color: #d4ebff;}#sk-container-id-1 div.sk-parallel-item::after {content: \"\";width: 100%;border-bottom: 1px solid gray;flex-grow: 1;}#sk-container-id-1 div.sk-label:hover label.sk-toggleable__label {background-color: #d4ebff;}#sk-container-id-1 div.sk-serial::before {content: \"\";position: absolute;border-left: 1px solid gray;box-sizing: border-box;top: 0;bottom: 0;left: 50%;z-index: 0;}#sk-container-id-1 div.sk-serial {display: flex;flex-direction: column;align-items: center;background-color: white;padding-right: 0.2em;padding-left: 0.2em;position: relative;}#sk-container-id-1 div.sk-item {position: relative;z-index: 1;}#sk-container-id-1 div.sk-parallel {display: flex;align-items: stretch;justify-content: center;background-color: white;position: relative;}#sk-container-id-1 div.sk-item::before, #sk-container-id-1 div.sk-parallel-item::before {content: \"\";position: absolute;border-left: 1px solid gray;box-sizing: border-box;top: 0;bottom: 0;left: 50%;z-index: -1;}#sk-container-id-1 div.sk-parallel-item {display: flex;flex-direction: column;z-index: 1;position: relative;background-color: white;}#sk-container-id-1 div.sk-parallel-item:first-child::after {align-self: flex-end;width: 50%;}#sk-container-id-1 div.sk-parallel-item:last-child::after {align-self: flex-start;width: 50%;}#sk-container-id-1 div.sk-parallel-item:only-child::after {width: 0;}#sk-container-id-1 div.sk-dashed-wrapped {border: 1px dashed gray;margin: 0 0.4em 0.5em 0.4em;box-sizing: border-box;padding-bottom: 0.4em;background-color: white;}#sk-container-id-1 div.sk-label label {font-family: monospace;font-weight: bold;display: inline-block;line-height: 1.2em;}#sk-container-id-1 div.sk-label-container {text-align: center;}#sk-container-id-1 div.sk-container {/* jupyter's `normalize.less` sets `[hidden] { display: none; }` but bootstrap.min.css set `[hidden] { display: none !important; }` so we also need the `!important` here to be able to override the default hidden behavior on the sphinx rendered scikit-learn.org. See: https://github.com/scikit-learn/scikit-learn/issues/21755 */display: inline-block !important;position: relative;}#sk-container-id-1 div.sk-text-repr-fallback {display: none;}</style><div id=\"sk-container-id-1\" class=\"sk-top-container\"><div class=\"sk-text-repr-fallback\"><pre>LogisticRegression()</pre><b>In a Jupyter environment, please rerun this cell to show the HTML representation or trust the notebook. <br />On GitHub, the HTML representation is unable to render, please try loading this page with nbviewer.org.</b></div><div class=\"sk-container\" hidden><div class=\"sk-item\"><div class=\"sk-estimator sk-toggleable\"><input class=\"sk-toggleable__control sk-hidden--visually\" id=\"sk-estimator-id-1\" type=\"checkbox\" checked><label for=\"sk-estimator-id-1\" class=\"sk-toggleable__label sk-toggleable__label-arrow\">LogisticRegression</label><div class=\"sk-toggleable__content\"><pre>LogisticRegression()</pre></div></div></div></div></div>"
      ],
      "text/plain": [
       "LogisticRegression()"
      ]
     },
     "execution_count": 32,
     "metadata": {},
     "output_type": "execute_result"
    }
   ],
   "source": [
    "logistic_model.fit(x_train, y_train)"
   ]
  },
  {
   "cell_type": "markdown",
   "metadata": {
    "papermill": {
     "duration": 0.103542,
     "end_time": "2020-12-27T17:04:05.725284",
     "exception": false,
     "start_time": "2020-12-27T17:04:05.621742",
     "status": "completed"
    },
    "tags": []
   },
   "source": [
    "<a id=\"6\"></a><br>\n",
    "# 6. Predict Model"
   ]
  },
  {
   "cell_type": "code",
   "execution_count": 33,
   "metadata": {
    "execution": {
     "iopub.execute_input": "2020-12-27T17:04:05.940324Z",
     "iopub.status.busy": "2020-12-27T17:04:05.939490Z",
     "iopub.status.idle": "2020-12-27T17:04:05.944038Z",
     "shell.execute_reply": "2020-12-27T17:04:05.943294Z"
    },
    "papermill": {
     "duration": 0.114469,
     "end_time": "2020-12-27T17:04:05.944174",
     "exception": false,
     "start_time": "2020-12-27T17:04:05.829705",
     "status": "completed"
    },
    "tags": []
   },
   "outputs": [],
   "source": [
    "# Predict the model for testin data\n",
    "\n",
    "predicted = logistic_model.predict(x_test)\n"
   ]
  },
  {
   "cell_type": "code",
   "execution_count": 34,
   "metadata": {
    "execution": {
     "iopub.execute_input": "2020-12-27T17:04:06.159689Z",
     "iopub.status.busy": "2020-12-27T17:04:06.158822Z",
     "iopub.status.idle": "2020-12-27T17:04:06.163699Z",
     "shell.execute_reply": "2020-12-27T17:04:06.162830Z"
    },
    "papermill": {
     "duration": 0.115851,
     "end_time": "2020-12-27T17:04:06.163824",
     "exception": false,
     "start_time": "2020-12-27T17:04:06.047973",
     "status": "completed"
    },
    "tags": []
   },
   "outputs": [
    {
     "name": "stdout",
     "output_type": "stream",
     "text": [
      "Coefficient of model : [[ 3.316164   -0.3059193   0.09398266]]\n"
     ]
    }
   ],
   "source": [
    "# check the coefficeints of the trained model\n",
    "print('Coefficient of model :', logistic_model.coef_)\n"
   ]
  },
  {
   "cell_type": "code",
   "execution_count": 35,
   "metadata": {
    "execution": {
     "iopub.execute_input": "2020-12-27T17:04:06.379670Z",
     "iopub.status.busy": "2020-12-27T17:04:06.378682Z",
     "iopub.status.idle": "2020-12-27T17:04:06.383688Z",
     "shell.execute_reply": "2020-12-27T17:04:06.383080Z"
    },
    "papermill": {
     "duration": 0.115056,
     "end_time": "2020-12-27T17:04:06.383802",
     "exception": false,
     "start_time": "2020-12-27T17:04:06.268746",
     "status": "completed"
    },
    "tags": []
   },
   "outputs": [
    {
     "name": "stdout",
     "output_type": "stream",
     "text": [
      "Intercept of model [-1.98307795]\n"
     ]
    }
   ],
   "source": [
    "# check the intercept of the model\n",
    "print('Intercept of model',logistic_model.intercept_)"
   ]
  },
  {
   "cell_type": "code",
   "execution_count": 36,
   "metadata": {
    "execution": {
     "iopub.execute_input": "2020-12-27T17:04:06.539720Z",
     "iopub.status.busy": "2020-12-27T17:04:06.538658Z",
     "iopub.status.idle": "2020-12-27T17:04:06.546360Z",
     "shell.execute_reply": "2020-12-27T17:04:06.545655Z"
    },
    "papermill": {
     "duration": 0.088395,
     "end_time": "2020-12-27T17:04:06.546517",
     "exception": false,
     "start_time": "2020-12-27T17:04:06.458122",
     "status": "completed"
    },
    "tags": []
   },
   "outputs": [
    {
     "name": "stdout",
     "output_type": "stream",
     "text": [
      "accuracy_score overall : 0.8094462540716613\n",
      "accuracy_score percent : 80.94\n"
     ]
    }
   ],
   "source": [
    "# Accuray Score on train dataset\n",
    "# accuracy_train = accuracy_score(x_test, predicted)\n",
    "score = logistic_model.score(x_train, y_train)\n",
    "print('accuracy_score overall :', score)\n",
    "print('accuracy_score percent :', round(score*100,2))\n"
   ]
  },
  {
   "cell_type": "code",
   "execution_count": 37,
   "metadata": {
    "execution": {
     "iopub.execute_input": "2020-12-27T17:04:06.780017Z",
     "iopub.status.busy": "2020-12-27T17:04:06.779105Z",
     "iopub.status.idle": "2020-12-27T17:04:06.783959Z",
     "shell.execute_reply": "2020-12-27T17:04:06.782779Z"
    },
    "papermill": {
     "duration": 0.125576,
     "end_time": "2020-12-27T17:04:06.784132",
     "exception": false,
     "start_time": "2020-12-27T17:04:06.658556",
     "status": "completed"
    },
    "tags": []
   },
   "outputs": [
    {
     "name": "stdout",
     "output_type": "stream",
     "text": [
      "Target on test data [1 1 1 1 1 1 1 0 1 1 1 1 1 0 1 1 1 1 1 1 1 1 1 1 1 0 1 1 1 1 1 1 1 1 1 0 1\n",
      " 1 1 1 1 1 1 1 1 1 1 1 1 1 1 1 1 1 1 0 1 1 0 1 1 1 1 0 1 1 0 0 1 0 1 1 1 1\n",
      " 1 1 1 1 1 1 0 1 0 1 0 1 1 1 1 1 1 1 1 1 0 1 1 1 1 1 1 0 1 1 1 1 0 1 1 1 1\n",
      " 1 1 1 1 1 1 0 0 0 1 1 1 0 0 1 0 1 1 1 1 1 1 1 1 1 1 1 1 1 0 1 0 1 1 1 1 0\n",
      " 1 1 1 1 1 0 1 1 1 1 1 1 1 0 1 1 1 0 0 1 0 1 1 1 1 0 0 1 1 1 1 1 1 1 1 1 1\n",
      " 1 1 1 1 1 1 1 0 0 1 1 0 1 0 1 1 1 1 1 1 1 1 1 1 1 1 0 1 1 1 1 1 1 1 1 1 1\n",
      " 1 1 0 1 1 1 1 0 1 1 1 1 1 0 0 1 1 1 1 0 1 0 1 0 1 1 1 1 0 1 1 1 1 0 1 1 1\n",
      " 1 1 1 1 1 1 1 0 1 0 1 1 1 1 0 0 1 1 1 0 1 1 1 1 1 1 1 1 1 1 1 1 1 1 0 1 1\n",
      " 1 1 1 1 1 0 1 1 1 1 1 1 1 1 1 0 1 1 1 1 1 0 1 1 1 1 1 1 1 0 1 1 1 1 1 1 1\n",
      " 1 1 1 1 1 1 0 1 1 1 1 1 1 0 1 1 1 1 1 1 1 0 1 1 1 1 1 1 1 1 1 1 1 1]\n"
     ]
    }
   ],
   "source": [
    "\n",
    "# predict the target on the test dataset\n",
    "predict_test = logistic_model.predict(x_test)\n",
    "print('Target on test data',predict_test) \n"
   ]
  },
  {
   "cell_type": "markdown",
   "metadata": {
    "papermill": {
     "duration": 0.112386,
     "end_time": "2020-12-27T17:04:07.009572",
     "exception": false,
     "start_time": "2020-12-27T17:04:06.897186",
     "status": "completed"
    },
    "tags": []
   },
   "source": [
    "<a id=\"7\"></a><br>\n",
    "# 7. Deploy Model"
   ]
  },
  {
   "cell_type": "markdown",
   "metadata": {
    "papermill": {
     "duration": 0.106675,
     "end_time": "2020-12-27T17:04:07.222787",
     "exception": false,
     "start_time": "2020-12-27T17:04:07.116112",
     "status": "completed"
    },
    "tags": []
   },
   "source": [
    "\n",
    "- Finally, we are done so far. The last step is to deploy our model in production map. So we need to export our model and bind with web application API. \n",
    "\n",
    "Using pickle we can export our model and store in to `logistic_model.pkl` file, so we can ealy access this file and calculate customize prediction using Web App API.\n",
    "\n",
    "\n",
    "#### A little bit information about pickle:\n",
    "\n",
    "`Pickle` is the standard way of serializing objects in Python. You can use the pickle operation to serialize your machine learning algorithms and save the serialized format to a file. Later you can load this file to deserialize your model and use it to make new predictions\n",
    "\n",
    "\n",
    ">>  Here is example of the Pickle export model\n",
    "\n",
    "\n",
    "\n",
    "```\n",
    "model.fit(X_train, Y_train)\n",
    "# save the model to disk\n",
    "filename = 'finalized_model.sav'\n",
    "pickle.dump(model, open(filename, 'wb'))\n",
    "\n",
    "# some time later...\n",
    "\n",
    "# load the model from disk\n",
    "loaded_model = pickle.load(open(filename, 'rb'))\n",
    "result = loaded_model.score(X_test, Y_test)\n",
    "print(result)\n",
    "```"
   ]
  },
  {
   "cell_type": "code",
   "execution_count": 38,
   "metadata": {
    "execution": {
     "iopub.execute_input": "2020-12-27T17:04:07.442120Z",
     "iopub.status.busy": "2020-12-27T17:04:07.441281Z",
     "iopub.status.idle": "2020-12-27T17:04:07.444943Z",
     "shell.execute_reply": "2020-12-27T17:04:07.444190Z"
    },
    "papermill": {
     "duration": 0.114609,
     "end_time": "2020-12-27T17:04:07.445065",
     "exception": false,
     "start_time": "2020-12-27T17:04:07.330456",
     "status": "completed"
    },
    "tags": []
   },
   "outputs": [],
   "source": [
    "import pickle as pkl"
   ]
  },
  {
   "cell_type": "code",
   "execution_count": 40,
   "metadata": {
    "execution": {
     "iopub.execute_input": "2020-12-27T17:04:07.664428Z",
     "iopub.status.busy": "2020-12-27T17:04:07.663475Z",
     "iopub.status.idle": "2020-12-27T17:04:07.667844Z",
     "shell.execute_reply": "2020-12-27T17:04:07.667127Z"
    },
    "papermill": {
     "duration": 0.115894,
     "end_time": "2020-12-27T17:04:07.667951",
     "exception": false,
     "start_time": "2020-12-27T17:04:07.552057",
     "status": "completed"
    },
    "tags": []
   },
   "outputs": [],
   "source": [
    "# save the model to disk\n",
    "filename = 'logistic_model.pkl'\n",
    "pkl.dump(logistic_model, open(filename, 'wb')) # wb means write as binary"
   ]
  },
  {
   "cell_type": "markdown",
   "metadata": {
    "papermill": {
     "duration": 0.078662,
     "end_time": "2020-12-27T17:04:07.825207",
     "exception": false,
     "start_time": "2020-12-27T17:04:07.746545",
     "status": "completed"
    },
    "tags": []
   },
   "source": [
    "### Now, You can check your current directory. You can see the file with named \"logistic_model.pkl\""
   ]
  },
  {
   "cell_type": "markdown",
   "metadata": {
    "papermill": {
     "duration": 0.073945,
     "end_time": "2020-12-27T17:04:07.975280",
     "exception": false,
     "start_time": "2020-12-27T17:04:07.901335",
     "status": "completed"
    },
    "tags": []
   },
   "source": [
    "- To read model from file\n",
    "\n",
    "```\n",
    "# load the model from disk\n",
    "loaded_model = pkl.load(open(filename, 'rb')) # rb means read as binary\n",
    "result = loaded_model.score(X_test, Y_test)\n",
    "\n",
    "```"
   ]
  }
 ],
 "metadata": {
  "kernelspec": {
   "display_name": "Python 3.9.12 ('base')",
   "language": "python",
   "name": "python3"
  },
  "language_info": {
   "codemirror_mode": {
    "name": "ipython",
    "version": 3
   },
   "file_extension": ".py",
   "mimetype": "text/x-python",
   "name": "python",
   "nbconvert_exporter": "python",
   "pygments_lexer": "ipython3",
   "version": "3.9.12"
  },
  "papermill": {
   "duration": 26.564481,
   "end_time": "2020-12-27T17:04:08.309557",
   "environment_variables": {},
   "exception": null,
   "input_path": "__notebook__.ipynb",
   "output_path": "__notebook__.ipynb",
   "parameters": {},
   "start_time": "2020-12-27T17:03:41.745076",
   "version": "2.1.0"
  },
  "vscode": {
   "interpreter": {
    "hash": "42a1cd04e3876d06a373531abd62d4b1de0b44516412ff1d1811499cb8f1f183"
   }
  }
 },
 "nbformat": 4,
 "nbformat_minor": 4
}
